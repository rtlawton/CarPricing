{
 "cells": [
  {
   "cell_type": "markdown",
   "id": "b2fcae30",
   "metadata": {},
   "source": [
    "# VW used car pricing model\n",
    "Kaggle data set of 15,000 prices for used VW cars. Objective is to build a regression model to predict pricing."
   ]
  },
  {
   "cell_type": "markdown",
   "id": "9d940f32",
   "metadata": {},
   "source": [
    "**Contents:**<a id='s0'></a>\n",
    "1. [Exploratory data analysis](#s1)\n",
    "2. [Data cleansing and feature engineering](#s2)\n",
    "3. [Model building](#s3)\n",
    "4. [Model evaluation](#s4)\n",
    "5. [Conclusions](#s5)"
   ]
  },
  {
   "cell_type": "code",
   "execution_count": 281,
   "id": "9296811c",
   "metadata": {},
   "outputs": [],
   "source": [
    "import numpy as np\n",
    "import pandas as pd\n",
    "import seaborn as sns\n",
    "import matplotlib.pyplot as plt\n",
    "%matplotlib inline"
   ]
  },
  {
   "cell_type": "code",
   "execution_count": 282,
   "id": "c9445ab3",
   "metadata": {},
   "outputs": [],
   "source": [
    "df = pd.read_csv(\"vw.csv\")"
   ]
  },
  {
   "cell_type": "markdown",
   "id": "e666ee11",
   "metadata": {},
   "source": [
    "## 1. Exploratory data analysis<a id='s1'></a>"
   ]
  },
  {
   "cell_type": "code",
   "execution_count": 283,
   "id": "a589d060",
   "metadata": {},
   "outputs": [
    {
     "name": "stdout",
     "output_type": "stream",
     "text": [
      "<class 'pandas.core.frame.DataFrame'>\n",
      "RangeIndex: 15157 entries, 0 to 15156\n",
      "Data columns (total 9 columns):\n",
      " #   Column        Non-Null Count  Dtype  \n",
      "---  ------        --------------  -----  \n",
      " 0   model         15157 non-null  object \n",
      " 1   year          15157 non-null  int64  \n",
      " 2   price         15157 non-null  int64  \n",
      " 3   transmission  15157 non-null  object \n",
      " 4   mileage       15157 non-null  int64  \n",
      " 5   fuelType      15157 non-null  object \n",
      " 6   tax           15157 non-null  int64  \n",
      " 7   mpg           15157 non-null  float64\n",
      " 8   engineSize    15157 non-null  float64\n",
      "dtypes: float64(2), int64(4), object(3)\n",
      "memory usage: 1.0+ MB\n"
     ]
    }
   ],
   "source": [
    "df.info()"
   ]
  },
  {
   "cell_type": "markdown",
   "id": "091f28d5",
   "metadata": {},
   "source": [
    "#### There is pricing for 27 different models:"
   ]
  },
  {
   "cell_type": "code",
   "execution_count": 284,
   "id": "151c6429",
   "metadata": {},
   "outputs": [
    {
     "data": {
      "text/plain": [
       " Golf               4863\n",
       " Polo               3287\n",
       " Tiguan             1765\n",
       " Passat              915\n",
       " Up                  884\n",
       " T-Roc               733\n",
       " Touareg             363\n",
       " Touran              352\n",
       " T-Cross             300\n",
       " Golf SV             268\n",
       " Sharan              260\n",
       " Arteon              248\n",
       " Scirocco            242\n",
       " Amarok              111\n",
       " Caravelle           101\n",
       " CC                   95\n",
       " Tiguan Allspace      91\n",
       " Beetle               83\n",
       " Shuttle              61\n",
       " Caddy Maxi Life      59\n",
       " Jetta                32\n",
       " California           15\n",
       " Caddy Life            8\n",
       " Eos                   7\n",
       " Caddy                 6\n",
       " Caddy Maxi            4\n",
       " Fox                   4\n",
       "Name: model, dtype: int64"
      ]
     },
     "execution_count": 284,
     "metadata": {},
     "output_type": "execute_result"
    }
   ],
   "source": [
    "df['model'].value_counts()"
   ]
  },
  {
   "cell_type": "markdown",
   "id": "eb701957",
   "metadata": {},
   "source": [
    "#### And 3 different transmissions:"
   ]
  },
  {
   "cell_type": "code",
   "execution_count": 285,
   "id": "077c246a",
   "metadata": {},
   "outputs": [
    {
     "data": {
      "text/plain": [
       "Manual       9417\n",
       "Semi-Auto    3780\n",
       "Automatic    1960\n",
       "Name: transmission, dtype: int64"
      ]
     },
     "execution_count": 285,
     "metadata": {},
     "output_type": "execute_result"
    }
   ],
   "source": [
    "df['transmission'].value_counts()"
   ]
  },
  {
   "cell_type": "markdown",
   "id": "90c98611",
   "metadata": {},
   "source": [
    "#### And 4 different fuels:"
   ]
  },
  {
   "cell_type": "code",
   "execution_count": 286,
   "id": "2347862e",
   "metadata": {},
   "outputs": [
    {
     "data": {
      "text/plain": [
       "Petrol    8553\n",
       "Diesel    6372\n",
       "Hybrid     145\n",
       "Other       87\n",
       "Name: fuelType, dtype: int64"
      ]
     },
     "execution_count": 286,
     "metadata": {},
     "output_type": "execute_result"
    }
   ],
   "source": [
    "df['fuelType'].value_counts()"
   ]
  },
  {
   "cell_type": "markdown",
   "id": "413913a2",
   "metadata": {},
   "source": [
    "#### There are 5 numerical features, plus the label \"price\":"
   ]
  },
  {
   "cell_type": "code",
   "execution_count": 287,
   "id": "b90416cb",
   "metadata": {},
   "outputs": [
    {
     "data": {
      "text/html": [
       "<div>\n",
       "<style scoped>\n",
       "    .dataframe tbody tr th:only-of-type {\n",
       "        vertical-align: middle;\n",
       "    }\n",
       "\n",
       "    .dataframe tbody tr th {\n",
       "        vertical-align: top;\n",
       "    }\n",
       "\n",
       "    .dataframe thead th {\n",
       "        text-align: right;\n",
       "    }\n",
       "</style>\n",
       "<table border=\"1\" class=\"dataframe\">\n",
       "  <thead>\n",
       "    <tr style=\"text-align: right;\">\n",
       "      <th></th>\n",
       "      <th>year</th>\n",
       "      <th>price</th>\n",
       "      <th>mileage</th>\n",
       "      <th>tax</th>\n",
       "      <th>mpg</th>\n",
       "      <th>engineSize</th>\n",
       "    </tr>\n",
       "  </thead>\n",
       "  <tbody>\n",
       "    <tr>\n",
       "      <th>count</th>\n",
       "      <td>15157.000000</td>\n",
       "      <td>15157.000000</td>\n",
       "      <td>15157.000000</td>\n",
       "      <td>15157.000000</td>\n",
       "      <td>15157.000000</td>\n",
       "      <td>15157.000000</td>\n",
       "    </tr>\n",
       "    <tr>\n",
       "      <th>mean</th>\n",
       "      <td>2017.255789</td>\n",
       "      <td>16838.952365</td>\n",
       "      <td>22092.785644</td>\n",
       "      <td>112.744277</td>\n",
       "      <td>53.753355</td>\n",
       "      <td>1.600693</td>\n",
       "    </tr>\n",
       "    <tr>\n",
       "      <th>std</th>\n",
       "      <td>2.053059</td>\n",
       "      <td>7755.015206</td>\n",
       "      <td>21148.941635</td>\n",
       "      <td>63.482617</td>\n",
       "      <td>13.642182</td>\n",
       "      <td>0.461695</td>\n",
       "    </tr>\n",
       "    <tr>\n",
       "      <th>min</th>\n",
       "      <td>2000.000000</td>\n",
       "      <td>899.000000</td>\n",
       "      <td>1.000000</td>\n",
       "      <td>0.000000</td>\n",
       "      <td>0.300000</td>\n",
       "      <td>0.000000</td>\n",
       "    </tr>\n",
       "    <tr>\n",
       "      <th>25%</th>\n",
       "      <td>2016.000000</td>\n",
       "      <td>10990.000000</td>\n",
       "      <td>5962.000000</td>\n",
       "      <td>30.000000</td>\n",
       "      <td>46.300000</td>\n",
       "      <td>1.200000</td>\n",
       "    </tr>\n",
       "    <tr>\n",
       "      <th>50%</th>\n",
       "      <td>2017.000000</td>\n",
       "      <td>15497.000000</td>\n",
       "      <td>16393.000000</td>\n",
       "      <td>145.000000</td>\n",
       "      <td>53.300000</td>\n",
       "      <td>1.600000</td>\n",
       "    </tr>\n",
       "    <tr>\n",
       "      <th>75%</th>\n",
       "      <td>2019.000000</td>\n",
       "      <td>20998.000000</td>\n",
       "      <td>31824.000000</td>\n",
       "      <td>145.000000</td>\n",
       "      <td>60.100000</td>\n",
       "      <td>2.000000</td>\n",
       "    </tr>\n",
       "    <tr>\n",
       "      <th>max</th>\n",
       "      <td>2020.000000</td>\n",
       "      <td>69994.000000</td>\n",
       "      <td>212000.000000</td>\n",
       "      <td>580.000000</td>\n",
       "      <td>188.300000</td>\n",
       "      <td>3.200000</td>\n",
       "    </tr>\n",
       "  </tbody>\n",
       "</table>\n",
       "</div>"
      ],
      "text/plain": [
       "               year         price        mileage           tax           mpg  \\\n",
       "count  15157.000000  15157.000000   15157.000000  15157.000000  15157.000000   \n",
       "mean    2017.255789  16838.952365   22092.785644    112.744277     53.753355   \n",
       "std        2.053059   7755.015206   21148.941635     63.482617     13.642182   \n",
       "min     2000.000000    899.000000       1.000000      0.000000      0.300000   \n",
       "25%     2016.000000  10990.000000    5962.000000     30.000000     46.300000   \n",
       "50%     2017.000000  15497.000000   16393.000000    145.000000     53.300000   \n",
       "75%     2019.000000  20998.000000   31824.000000    145.000000     60.100000   \n",
       "max     2020.000000  69994.000000  212000.000000    580.000000    188.300000   \n",
       "\n",
       "         engineSize  \n",
       "count  15157.000000  \n",
       "mean       1.600693  \n",
       "std        0.461695  \n",
       "min        0.000000  \n",
       "25%        1.200000  \n",
       "50%        1.600000  \n",
       "75%        2.000000  \n",
       "max        3.200000  "
      ]
     },
     "execution_count": 287,
     "metadata": {},
     "output_type": "execute_result"
    }
   ],
   "source": [
    "df.describe()"
   ]
  },
  {
   "cell_type": "code",
   "execution_count": 288,
   "id": "4ced384b",
   "metadata": {},
   "outputs": [
    {
     "data": {
      "text/plain": [
       "<AxesSubplot:xlabel='price', ylabel='Count'>"
      ]
     },
     "execution_count": 288,
     "metadata": {},
     "output_type": "execute_result"
    },
    {
     "data": {
      "image/png": "[encoded data removed]",
      "text/plain": [
       "<Figure size 1332x756 with 6 Axes>"
      ]
     },
     "metadata": {
      "needs_background": "light"
     },
     "output_type": "display_data"
    }
   ],
   "source": [
    "fig, ax =plt.subplots(2,3)\n",
    "fig.set_size_inches(18.5, 10.5)\n",
    "sns.histplot(df['mileage'], ax=ax[0,0])\n",
    "sns.histplot(df['mpg'], ax=ax[0,1])\n",
    "sns.histplot(df['year'], ax=ax[0,2])\n",
    "sns.histplot(df['tax'], ax=ax[1,0])\n",
    "sns.histplot(df['engineSize'], ax=ax[1,1])\n",
    "sns.histplot(df['price'], ax=ax[1,2])"
   ]
  },
  {
   "cell_type": "markdown",
   "id": "78948992",
   "metadata": {},
   "source": [
    "#### Correlation between numerical features:\n",
    "The only strong (negative) correlation is between mileage and year, but we will keep both variables since they are both known to be key parameters in car pricing."
   ]
  },
  {
   "cell_type": "code",
   "execution_count": 289,
   "id": "6ee1bdb8",
   "metadata": {},
   "outputs": [
    {
     "data": {
      "text/plain": [
       "<AxesSubplot:>"
      ]
     },
     "execution_count": 289,
     "metadata": {},
     "output_type": "execute_result"
    },
    {
     "data": {
      "image/png": "[encoded data removed]",
      "text/plain": [
       "<Figure size 432x288 with 2 Axes>"
      ]
     },
     "metadata": {
      "needs_background": "light"
     },
     "output_type": "display_data"
    }
   ],
   "source": [
    "sns.heatmap(df.drop('price', axis=1).corr(),cmap='BrBG')"
   ]
  },
  {
   "cell_type": "markdown",
   "id": "fe1660ea",
   "metadata": {},
   "source": [
    "## 2. Data cleansing and feature engineering<a id='s2'></a>\n",
    "2.1 \"Model\" column has a leading space. Remove it."
   ]
  },
  {
   "cell_type": "code",
   "execution_count": 290,
   "id": "a27470ac",
   "metadata": {},
   "outputs": [],
   "source": [
    "df['model'] = [x[1:] for x in df['model']]"
   ]
  },
  {
   "cell_type": "markdown",
   "id": "6ce76c07",
   "metadata": {},
   "source": [
    "#### 2.2 Missing tax information in 590 records (set to zero). Reset to median value of 145."
   ]
  },
  {
   "cell_type": "code",
   "execution_count": 291,
   "id": "22a3ee7a",
   "metadata": {},
   "outputs": [
    {
     "data": {
      "text/plain": [
       "590"
      ]
     },
     "execution_count": 291,
     "metadata": {},
     "output_type": "execute_result"
    }
   ],
   "source": [
    "sum(df['tax'] == 0)"
   ]
  },
  {
   "cell_type": "code",
   "execution_count": 292,
   "id": "865085fc",
   "metadata": {},
   "outputs": [],
   "source": [
    "df['tax'].mask(df['tax'] == 0, 145.0, inplace=True)"
   ]
  },
  {
   "cell_type": "markdown",
   "id": "235ad3ae",
   "metadata": {},
   "source": [
    "#### 2.3 Missing engineSize information in 15 records (set to zero). Reset to median 1.6."
   ]
  },
  {
   "cell_type": "code",
   "execution_count": 293,
   "id": "23fb56dd",
   "metadata": {},
   "outputs": [
    {
     "data": {
      "text/plain": [
       "15"
      ]
     },
     "execution_count": 293,
     "metadata": {},
     "output_type": "execute_result"
    }
   ],
   "source": [
    "sum(df['engineSize']==0)"
   ]
  },
  {
   "cell_type": "code",
   "execution_count": 294,
   "id": "623dfb77",
   "metadata": {},
   "outputs": [],
   "source": [
    "df['engineSize'].mask(df['engineSize'] == 0.0, 1.6, inplace=True)"
   ]
  },
  {
   "cell_type": "markdown",
   "id": "94e96e18",
   "metadata": {},
   "source": [
    "#### 2.4 mpg set to zero in 1 record. Reset to median 53.3."
   ]
  },
  {
   "cell_type": "code",
   "execution_count": 295,
   "id": "1fb46bf2",
   "metadata": {},
   "outputs": [
    {
     "data": {
      "text/plain": [
       "1"
      ]
     },
     "execution_count": 295,
     "metadata": {},
     "output_type": "execute_result"
    }
   ],
   "source": [
    "sum(df['mpg']<20)"
   ]
  },
  {
   "cell_type": "code",
   "execution_count": 296,
   "id": "5cb5def4",
   "metadata": {},
   "outputs": [],
   "source": [
    "df['mpg'].mask(df['mpg'] < 20, 53.3, inplace=True)"
   ]
  },
  {
   "cell_type": "markdown",
   "id": "9508a1e0",
   "metadata": {},
   "source": [
    "#### 2.5 Encode categorical features"
   ]
  },
  {
   "cell_type": "code",
   "execution_count": 297,
   "id": "f8af0487",
   "metadata": {},
   "outputs": [],
   "source": [
    "categoricals = df.select_dtypes(include='object').columns\n",
    "for col_name in categoricals:\n",
    "    coded = pd.get_dummies(df[col_name])\n",
    "    df = pd.concat([df.drop(col_name,axis=1),coded],axis=1)"
   ]
  },
  {
   "cell_type": "markdown",
   "id": "4a73ff06",
   "metadata": {},
   "source": [
    "## 3. Model building<a id='s3'></a>\n",
    "Models will be built using XGBoost technology.\n",
    "#### First split off the test set:"
   ]
  },
  {
   "cell_type": "code",
   "execution_count": 298,
   "id": "6b3452e4",
   "metadata": {},
   "outputs": [],
   "source": [
    "from sklearn.model_selection import train_test_split\n",
    "X_train, X_test, y_train, y_test = train_test_split(df.drop(['price'],axis=1), df['price'], \n",
    "                                                    test_size=0.25, \n",
    "                                                    random_state=101)"
   ]
  },
  {
   "cell_type": "markdown",
   "id": "81693452",
   "metadata": {},
   "source": [
    "#### Build a utility function to tune the model over various hyperparameters and report results:"
   ]
  },
  {
   "cell_type": "code",
   "execution_count": 299,
   "id": "d2da8669",
   "metadata": {},
   "outputs": [],
   "source": [
    "import xgboost as xgb\n",
    "import itertools\n",
    "#\n",
    "# Function to build and evaulate models with CV over a grid of hyperparameters\n",
    "#\n",
    "def gridXGB(paramlist, verbosity = 0):\n",
    "    if verbosity > 0:\n",
    "        print('train-rmse\\ttest-rmse\\trounds', end=' ')\n",
    "        for param in paramlist:\n",
    "            print('\\t'+(param+' '*10)[:11], end=' ')\n",
    "        print('\\n')\n",
    "    best = dict()\n",
    "    s = list(paramlist.values())\n",
    "    for paramset in itertools.product(*s):\n",
    "        params = dict(zip(list(paramlist.keys()), list(paramset)))\n",
    "        cv_results = xgb.cv(dtrain=dmatrix, params=params, nfold=3,\n",
    "                        num_boost_round=500,early_stopping_rounds=10,metrics=\"rmse\",\n",
    "                            as_pandas=True, seed=123, shuffle=True)\n",
    "        if verbosity > 0:\n",
    "            pst = \"{:0.0f}\".format(cv_results.tail(1)[\"train-rmse-mean\"].values[0])\n",
    "            pst = pst + \"\\t\\t{:0.0f}\".format(cv_results.tail(1)[\"test-rmse-mean\"].values[0])\n",
    "            pst = pst + \"\\t\\t\" + str(len(cv_results))\n",
    "            for param in params.values():\n",
    "                if isinstance(param,int):\n",
    "                    pst = pst + \"\\t\\t\"+str(param)\n",
    "                else:\n",
    "                    pst = pst + \"\\t\\t{:.1f}\".format(param)\n",
    "            print(pst)\n",
    "        if len(best) == 0 or best['test-rmse'] > cv_results.tail(1)[\"test-rmse-mean\"].values[0]:\n",
    "            best['train-rmse'] = cv_results.tail(1)[\"train-rmse-mean\"].values[0]\n",
    "            best['test-rmse'] = cv_results.tail(1)[\"test-rmse-mean\"].values[0]\n",
    "            best['rounds'] = len(cv_results)\n",
    "            best.update(params)\n",
    "    print(\"\\n Best values:\")\n",
    "    print('train-rmse\\ttest-rmse\\trounds', end=' ')\n",
    "    for param in paramlist:\n",
    "        print('\\t'+(param+' '*10)[:11], end=' ')\n",
    "    print('\\n')\n",
    "    pst = \"\"\n",
    "    pst = \"{:0.0f}\".format(best[\"train-rmse\"])\n",
    "    pst = pst + \"\\t\\t{:0.0f}\".format(best[\"test-rmse\"])\n",
    "    pst = pst + \"\\t\\t\" + str(best[\"rounds\"])\n",
    "    for param in paramlist:\n",
    "        if isinstance(best[param],int):\n",
    "            pst = pst+ \"\\t\\t\" +str(best[param])\n",
    "        else:\n",
    "            pst = pst+ \"\\t\\t\" +\"{:.1f}\".format(best[param])\n",
    "    print(pst)"
   ]
  },
  {
   "cell_type": "markdown",
   "id": "d1aefa51",
   "metadata": {},
   "source": [
    "#### Initial scan of model hyperparameters:"
   ]
  },
  {
   "cell_type": "code",
   "execution_count": 300,
   "id": "74ee1ad2",
   "metadata": {},
   "outputs": [
    {
     "name": "stdout",
     "output_type": "stream",
     "text": [
      "train-rmse\ttest-rmse\trounds \tmax_depth   \tcolsample_b \tlearning_ra \n",
      "\n",
      "1367\t\t1582\t\t500\t\t4\t\t0.3\t\t0.1\n",
      "1234\t\t1548\t\t329\t\t4\t\t0.3\t\t0.3\n",
      "1149\t\t1588\t\t297\t\t4\t\t0.3\t\t0.5\n",
      "1221\t\t1671\t\t181\t\t4\t\t0.3\t\t0.7\n",
      "1288\t\t1579\t\t500\t\t4\t\t0.5\t\t0.1\n",
      "1210\t\t1575\t\t245\t\t4\t\t0.5\t\t0.3\n",
      "1184\t\t1585\t\t169\t\t4\t\t0.5\t\t0.5\n",
      "1334\t\t1690\t\t80\t\t4\t\t0.5\t\t0.7\n",
      "1269\t\t1597\t\t500\t\t4\t\t0.7\t\t0.1\n",
      "1260\t\t1617\t\t178\t\t4\t\t0.7\t\t0.3\n",
      "1178\t\t1645\t\t153\t\t4\t\t0.7\t\t0.5\n",
      "1263\t\t1705\t\t93\t\t4\t\t0.7\t\t0.7\n",
      "1017\t\t1535\t\t328\t\t8\t\t0.3\t\t0.1\n",
      "1072\t\t1595\t\t93\t\t8\t\t0.3\t\t0.3\n",
      "963\t\t1693\t\t93\t\t8\t\t0.3\t\t0.5\n",
      "999\t\t1856\t\t66\t\t8\t\t0.3\t\t0.7\n",
      "935\t\t1524\t\t283\t\t8\t\t0.5\t\t0.1\n",
      "1005\t\t1574\t\t74\t\t8\t\t0.5\t\t0.3\n",
      "1142\t\t1702\t\t30\t\t8\t\t0.5\t\t0.5\n",
      "1092\t\t1878\t\t30\t\t8\t\t0.5\t\t0.7\n",
      "1001\t\t1552\t\t166\t\t8\t\t0.7\t\t0.1\n",
      "954\t\t1609\t\t67\t\t8\t\t0.7\t\t0.3\n",
      "1062\t\t1679\t\t30\t\t8\t\t0.7\t\t0.5\n",
      "1064\t\t1743\t\t23\t\t8\t\t0.7\t\t0.7\n",
      "825\t\t1573\t\t174\t\t12\t\t0.3\t\t0.1\n",
      "814\t\t1672\t\t68\t\t12\t\t0.3\t\t0.3\n",
      "712\t\t1805\t\t68\t\t12\t\t0.3\t\t0.5\n",
      "888\t\t2005\t\t30\t\t12\t\t0.3\t\t0.7\n",
      "868\t\t1546\t\t92\t\t12\t\t0.5\t\t0.1\n",
      "905\t\t1606\t\t28\t\t12\t\t0.5\t\t0.3\n",
      "848\t\t1748\t\t26\t\t12\t\t0.5\t\t0.5\n",
      "903\t\t1950\t\t19\t\t12\t\t0.5\t\t0.7\n",
      "815\t\t1572\t\t77\t\t12\t\t0.7\t\t0.1\n",
      "961\t\t1637\t\t17\t\t12\t\t0.7\t\t0.3\n",
      "1026\t\t1669\t\t11\t\t12\t\t0.7\t\t0.5\n",
      "1095\t\t1740\t\t8\t\t12\t\t0.7\t\t0.7\n",
      "601\t\t1621\t\t160\t\t16\t\t0.3\t\t0.1\n",
      "566\t\t1745\t\t63\t\t16\t\t0.3\t\t0.3\n",
      "672\t\t1886\t\t30\t\t16\t\t0.3\t\t0.5\n",
      "627\t\t2091\t\t29\t\t16\t\t0.3\t\t0.7\n",
      "722\t\t1561\t\t67\t\t16\t\t0.5\t\t0.1\n",
      "814\t\t1631\t\t20\t\t16\t\t0.5\t\t0.3\n",
      "745\t\t1775\t\t17\t\t16\t\t0.5\t\t0.5\n",
      "1039\t\t2010\t\t8\t\t16\t\t0.5\t\t0.7\n",
      "657\t\t1595\t\t57\t\t16\t\t0.7\t\t0.1\n",
      "697\t\t1674\t\t17\t\t16\t\t0.7\t\t0.3\n",
      "972\t\t1689\t\t8\t\t16\t\t0.7\t\t0.5\n",
      "907\t\t1766\t\t7\t\t16\t\t0.7\t\t0.7\n",
      "\n",
      " Best values:\n",
      "train-rmse\ttest-rmse\trounds \tmax_depth   \tcolsample_b \tlearning_ra \n",
      "\n",
      "935\t\t1524\t\t283\t\t8\t\t0.5\t\t0.1\n"
     ]
    }
   ],
   "source": [
    "gridXGB(paramlist={'max_depth':[4, 8, 12,16],\n",
    "             'colsample_bytree': [0.3,0.5,0.7],\n",
    "             'learning_rate' : [0.1, 0.3, 0.5, 0.7]}, verbosity=1)"
   ]
  },
  {
   "cell_type": "markdown",
   "id": "6354a5ce",
   "metadata": {},
   "source": [
    "#### Fine tuning:"
   ]
  },
  {
   "cell_type": "code",
   "execution_count": 301,
   "id": "cb267cb8",
   "metadata": {},
   "outputs": [
    {
     "name": "stdout",
     "output_type": "stream",
     "text": [
      "\n",
      " Best values:\n",
      "train-rmse\ttest-rmse\trounds \tmax_depth   \tcolsample_b \tlearning_ra \n",
      "\n",
      "1053\t\t1522\t\t408\t\t6\t\t0.5\t\t0.1\n"
     ]
    }
   ],
   "source": [
    "gridXGB(paramlist={'max_depth':[6, 8, 10],\n",
    "             'colsample_bytree': [0.4,0.5,0.6],\n",
    "             'learning_rate' : [0.1, 0.2, 0.3]})"
   ]
  },
  {
   "cell_type": "markdown",
   "id": "c39a3da7",
   "metadata": {},
   "source": [
    "#### Does regularization help?"
   ]
  },
  {
   "cell_type": "code",
   "execution_count": 302,
   "id": "3d0289e1",
   "metadata": {},
   "outputs": [
    {
     "name": "stdout",
     "output_type": "stream",
     "text": [
      "\n",
      " Best values:\n",
      "train-rmse\ttest-rmse\trounds \tmax_depth   \tcolsample_b \tlearning_ra \tlambda      \talpha       \n",
      "\n",
      "1053\t\t1522\t\t408\t\t6\t\t0.5\t\t0.1\t\t1.0\t\t0\n"
     ]
    }
   ],
   "source": [
    "gridXGB(paramlist={'max_depth':[6],\n",
    "             'colsample_bytree': [0.5],\n",
    "             'learning_rate' : [0.1],\n",
    "                  'lambda':[0.1,1.0,5.0,10.0,20.0],\n",
    "                  'alpha':[0,1.0,5.0,10.0,20.0]})"
   ]
  },
  {
   "cell_type": "markdown",
   "id": "058b96f9",
   "metadata": {},
   "source": [
    "#### Does min_split_loss or min_child_weight affect performance?"
   ]
  },
  {
   "cell_type": "code",
   "execution_count": 303,
   "id": "1bebee2b",
   "metadata": {},
   "outputs": [
    {
     "name": "stdout",
     "output_type": "stream",
     "text": [
      "\n",
      " Best values:\n",
      "train-rmse\ttest-rmse\trounds \tmax_depth   \tcolsample_b \tlearning_ra \tmin_split_l \tmin_child_w \n",
      "\n",
      "1053\t\t1522\t\t408\t\t6\t\t0.5\t\t0.1\t\t10.0\t\t1.0\n"
     ]
    }
   ],
   "source": [
    "gridXGB(paramlist={'max_depth':[6],\n",
    "             'colsample_bytree': [0.5],\n",
    "             'learning_rate' : [0.1],\n",
    "                  'min_split_loss':[0,0.1,1.0,5.0,10.0,20.0],\n",
    "                  'min_child_weight':[1.0,10.0,20.0, 40.0, 100.0]})\n",
    " #                 'min_child_weight':[0.1,0.5,1.0,5.0,10.0,20.0]})"
   ]
  },
  {
   "cell_type": "markdown",
   "id": "8fc32265",
   "metadata": {},
   "source": [
    "#### Does subsampling of columns affect performance?"
   ]
  },
  {
   "cell_type": "code",
   "execution_count": 304,
   "id": "9c390bf6",
   "metadata": {},
   "outputs": [
    {
     "name": "stdout",
     "output_type": "stream",
     "text": [
      "\n",
      " Best values:\n",
      "train-rmse\ttest-rmse\trounds \tmax_depth   \tcolsample_b \tlearning_ra \tcolsample_b \tcolsample_b \n",
      "\n",
      "1053\t\t1522\t\t408\t\t6\t\t0.5\t\t0.1\t\t1.0\t\t1.0\n"
     ]
    }
   ],
   "source": [
    "gridXGB(paramlist={'max_depth':[6],\n",
    "             'colsample_bytree': [0.3,0.5,0.7,1.0],\n",
    "             'learning_rate' : [0.1],\n",
    "                  'colsample_bylevel':[0.3,0.5,0.7,1.0],\n",
    "                  'colsample_bynode':[0.3,0.5,0.7,1.0]})"
   ]
  },
  {
   "cell_type": "markdown",
   "id": "d1e2fca7",
   "metadata": {},
   "source": [
    "#### Does subsampling of rows affect performance?"
   ]
  },
  {
   "cell_type": "code",
   "execution_count": 305,
   "id": "9359c76d",
   "metadata": {},
   "outputs": [
    {
     "name": "stdout",
     "output_type": "stream",
     "text": [
      "\n",
      " Best values:\n",
      "train-rmse\ttest-rmse\trounds \tmax_depth   \tcolsample_b \tlearning_ra \tsubsample   \n",
      "\n",
      "1053\t\t1522\t\t408\t\t6\t\t0.5\t\t0.1\t\t1.0\n"
     ]
    }
   ],
   "source": [
    "gridXGB(paramlist={'max_depth':[6],\n",
    "             'colsample_bytree': [0.5],\n",
    "             'learning_rate' : [0.1],\n",
    "                  'subsample':[0.3,0.5,0.7,1.0]})"
   ]
  },
  {
   "cell_type": "markdown",
   "id": "52244872",
   "metadata": {},
   "source": [
    "#### Final fine-tuning:"
   ]
  },
  {
   "cell_type": "code",
   "execution_count": 306,
   "id": "eec81c1d",
   "metadata": {},
   "outputs": [
    {
     "name": "stdout",
     "output_type": "stream",
     "text": [
      "\n",
      " Best values:\n",
      "train-rmse\ttest-rmse\trounds \tmax_depth   \tcolsample_b \tlearning_ra \n",
      "\n",
      "1053\t\t1522\t\t408\t\t6\t\t0.5\t\t0.1\n"
     ]
    }
   ],
   "source": [
    "gridXGB(paramlist={'max_depth':[5,6,7],\n",
    "             'colsample_bytree': [0.4,0.5,0.6],\n",
    "             'learning_rate' : [0.1,0.15,0.2]})"
   ]
  },
  {
   "cell_type": "markdown",
   "id": "3f2e2e2f",
   "metadata": {},
   "source": [
    "## 4. Model evaluation<a id='s4'></a>"
   ]
  },
  {
   "cell_type": "markdown",
   "id": "bfa1c838",
   "metadata": {},
   "source": [
    "#### Calculate R2 score on test set for best model:"
   ]
  },
  {
   "cell_type": "code",
   "execution_count": 307,
   "id": "29d18998",
   "metadata": {},
   "outputs": [
    {
     "name": "stdout",
     "output_type": "stream",
     "text": [
      "R2-score (XGB): 0.962\n"
     ]
    }
   ],
   "source": [
    "from sklearn.metrics import r2_score\n",
    "params = {'max_depth':6,\n",
    "          'colsample_bytree': 0.5,\n",
    "          'learning_rate' : 0.1}\n",
    "xgbmodel = xgb.train(params, dmatrix, num_boost_round=297)\n",
    "preds = xgbmodel.predict(xgb.DMatrix(X_test,y_test))\n",
    "print(f'R2-score (XGB): {r2_score(y_test, preds):.3}')"
   ]
  },
  {
   "cell_type": "markdown",
   "id": "03443947",
   "metadata": {},
   "source": [
    "#### Benchmark against linear regression"
   ]
  },
  {
   "cell_type": "code",
   "execution_count": 308,
   "id": "34c4edf6",
   "metadata": {},
   "outputs": [
    {
     "name": "stdout",
     "output_type": "stream",
     "text": [
      "R2-score (Ridge): 0.879\n"
     ]
    }
   ],
   "source": [
    "from sklearn.linear_model import RidgeCV\n",
    "linmodel = RidgeCV(alphas=(0.1, 0.5, 1.0, 5.0, 10.0, 20.0))\n",
    "linmodel.fit(X_train, y_train)\n",
    "preds = linmodel.predict(X_test)\n",
    "print(f'R2-score (Ridge): {r2_score(y_test, preds):.3}')"
   ]
  },
  {
   "cell_type": "markdown",
   "id": "28544302",
   "metadata": {},
   "source": [
    "#### Model performance strengths and weaknesses:"
   ]
  },
  {
   "cell_type": "code",
   "execution_count": 309,
   "id": "17d8574b",
   "metadata": {},
   "outputs": [],
   "source": [
    "# Calculate absolute percentage error for each row of test data\n",
    "review = X_test[X_test.columns[:5]].copy()\n",
    "review['price'] = y_test\n",
    "review['predicted'] = xgbmodel.predict(xgb.DMatrix(X_test,y_test))\n",
    "review['error'] = review.apply(lambda x: np.abs(x['price'] - x['predicted'])/x['price'], axis=1)\n",
    "# Recombine encoded columns into categorical features\n",
    "from itertools import compress\n",
    "models = X_test.columns[5:32]\n",
    "gearbox = X_test.columns[32:35]\n",
    "fuel = X_test.columns[35:]\n",
    "X_models = X_test[models].values.tolist()\n",
    "X_gearbox = X_test[gearbox].values.tolist()\n",
    "X_fuel = X_test[fuel].values.tolist()\n",
    "review['model'] = [list(compress(models,row))[0] for row in X_models]\n",
    "review['gearbox'] = [list(compress(gearbox,row))[0] for row in X_gearbox]\n",
    "review['fuel'] = [list(compress(fuel,row))[0] for row in X_fuel]"
   ]
  },
  {
   "cell_type": "markdown",
   "id": "72b128f0",
   "metadata": {},
   "source": [
    "#### The ten best predictions:"
   ]
  },
  {
   "cell_type": "code",
   "execution_count": 310,
   "id": "64aa8fb9",
   "metadata": {},
   "outputs": [
    {
     "data": {
      "text/html": [
       "<div>\n",
       "<style scoped>\n",
       "    .dataframe tbody tr th:only-of-type {\n",
       "        vertical-align: middle;\n",
       "    }\n",
       "\n",
       "    .dataframe tbody tr th {\n",
       "        vertical-align: top;\n",
       "    }\n",
       "\n",
       "    .dataframe thead th {\n",
       "        text-align: right;\n",
       "    }\n",
       "</style>\n",
       "<table border=\"1\" class=\"dataframe\">\n",
       "  <thead>\n",
       "    <tr style=\"text-align: right;\">\n",
       "      <th></th>\n",
       "      <th>year</th>\n",
       "      <th>mileage</th>\n",
       "      <th>tax</th>\n",
       "      <th>mpg</th>\n",
       "      <th>engineSize</th>\n",
       "      <th>price</th>\n",
       "      <th>predicted</th>\n",
       "      <th>error</th>\n",
       "      <th>model</th>\n",
       "      <th>gearbox</th>\n",
       "      <th>fuel</th>\n",
       "    </tr>\n",
       "  </thead>\n",
       "  <tbody>\n",
       "    <tr>\n",
       "      <th>5988</th>\n",
       "      <td>2015</td>\n",
       "      <td>78684</td>\n",
       "      <td>20</td>\n",
       "      <td>67.3</td>\n",
       "      <td>2.0</td>\n",
       "      <td>9991</td>\n",
       "      <td>9990.936523</td>\n",
       "      <td>0.000006</td>\n",
       "      <td>Passat</td>\n",
       "      <td>Manual</td>\n",
       "      <td>Diesel</td>\n",
       "    </tr>\n",
       "    <tr>\n",
       "      <th>5822</th>\n",
       "      <td>2017</td>\n",
       "      <td>30339</td>\n",
       "      <td>150</td>\n",
       "      <td>62.8</td>\n",
       "      <td>2.0</td>\n",
       "      <td>15999</td>\n",
       "      <td>16000.090820</td>\n",
       "      <td>0.000068</td>\n",
       "      <td>Passat</td>\n",
       "      <td>Semi-Auto</td>\n",
       "      <td>Diesel</td>\n",
       "    </tr>\n",
       "    <tr>\n",
       "      <th>11732</th>\n",
       "      <td>2018</td>\n",
       "      <td>22000</td>\n",
       "      <td>150</td>\n",
       "      <td>46.3</td>\n",
       "      <td>1.4</td>\n",
       "      <td>18490</td>\n",
       "      <td>18488.716797</td>\n",
       "      <td>0.000069</td>\n",
       "      <td>Tiguan</td>\n",
       "      <td>Manual</td>\n",
       "      <td>Petrol</td>\n",
       "    </tr>\n",
       "    <tr>\n",
       "      <th>1533</th>\n",
       "      <td>2015</td>\n",
       "      <td>46223</td>\n",
       "      <td>30</td>\n",
       "      <td>53.3</td>\n",
       "      <td>1.4</td>\n",
       "      <td>10498</td>\n",
       "      <td>10499.625977</td>\n",
       "      <td>0.000155</td>\n",
       "      <td>Golf</td>\n",
       "      <td>Manual</td>\n",
       "      <td>Petrol</td>\n",
       "    </tr>\n",
       "    <tr>\n",
       "      <th>10152</th>\n",
       "      <td>2019</td>\n",
       "      <td>8787</td>\n",
       "      <td>145</td>\n",
       "      <td>42.8</td>\n",
       "      <td>2.0</td>\n",
       "      <td>28790</td>\n",
       "      <td>28785.511719</td>\n",
       "      <td>0.000156</td>\n",
       "      <td>Tiguan</td>\n",
       "      <td>Manual</td>\n",
       "      <td>Diesel</td>\n",
       "    </tr>\n",
       "    <tr>\n",
       "      <th>5322</th>\n",
       "      <td>2018</td>\n",
       "      <td>24200</td>\n",
       "      <td>145</td>\n",
       "      <td>58.9</td>\n",
       "      <td>1.0</td>\n",
       "      <td>12999</td>\n",
       "      <td>13001.155273</td>\n",
       "      <td>0.000166</td>\n",
       "      <td>Golf</td>\n",
       "      <td>Manual</td>\n",
       "      <td>Petrol</td>\n",
       "    </tr>\n",
       "    <tr>\n",
       "      <th>4461</th>\n",
       "      <td>2017</td>\n",
       "      <td>35000</td>\n",
       "      <td>145</td>\n",
       "      <td>39.8</td>\n",
       "      <td>2.0</td>\n",
       "      <td>21990</td>\n",
       "      <td>21986.138672</td>\n",
       "      <td>0.000176</td>\n",
       "      <td>Golf</td>\n",
       "      <td>Automatic</td>\n",
       "      <td>Petrol</td>\n",
       "    </tr>\n",
       "    <tr>\n",
       "      <th>7013</th>\n",
       "      <td>2016</td>\n",
       "      <td>31516</td>\n",
       "      <td>20</td>\n",
       "      <td>60.1</td>\n",
       "      <td>1.2</td>\n",
       "      <td>9298</td>\n",
       "      <td>9299.728516</td>\n",
       "      <td>0.000186</td>\n",
       "      <td>Polo</td>\n",
       "      <td>Manual</td>\n",
       "      <td>Petrol</td>\n",
       "    </tr>\n",
       "    <tr>\n",
       "      <th>12662</th>\n",
       "      <td>2019</td>\n",
       "      <td>4707</td>\n",
       "      <td>150</td>\n",
       "      <td>54.3</td>\n",
       "      <td>1.0</td>\n",
       "      <td>9391</td>\n",
       "      <td>9388.862305</td>\n",
       "      <td>0.000228</td>\n",
       "      <td>Up</td>\n",
       "      <td>Manual</td>\n",
       "      <td>Petrol</td>\n",
       "    </tr>\n",
       "    <tr>\n",
       "      <th>7430</th>\n",
       "      <td>2017</td>\n",
       "      <td>29364</td>\n",
       "      <td>20</td>\n",
       "      <td>60.1</td>\n",
       "      <td>1.2</td>\n",
       "      <td>9999</td>\n",
       "      <td>10001.380859</td>\n",
       "      <td>0.000238</td>\n",
       "      <td>Polo</td>\n",
       "      <td>Manual</td>\n",
       "      <td>Petrol</td>\n",
       "    </tr>\n",
       "  </tbody>\n",
       "</table>\n",
       "</div>"
      ],
      "text/plain": [
       "       year  mileage  tax   mpg  engineSize  price     predicted     error  \\\n",
       "5988   2015    78684   20  67.3         2.0   9991   9990.936523  0.000006   \n",
       "5822   2017    30339  150  62.8         2.0  15999  16000.090820  0.000068   \n",
       "11732  2018    22000  150  46.3         1.4  18490  18488.716797  0.000069   \n",
       "1533   2015    46223   30  53.3         1.4  10498  10499.625977  0.000155   \n",
       "10152  2019     8787  145  42.8         2.0  28790  28785.511719  0.000156   \n",
       "5322   2018    24200  145  58.9         1.0  12999  13001.155273  0.000166   \n",
       "4461   2017    35000  145  39.8         2.0  21990  21986.138672  0.000176   \n",
       "7013   2016    31516   20  60.1         1.2   9298   9299.728516  0.000186   \n",
       "12662  2019     4707  150  54.3         1.0   9391   9388.862305  0.000228   \n",
       "7430   2017    29364   20  60.1         1.2   9999  10001.380859  0.000238   \n",
       "\n",
       "        model    gearbox    fuel  \n",
       "5988   Passat     Manual  Diesel  \n",
       "5822   Passat  Semi-Auto  Diesel  \n",
       "11732  Tiguan     Manual  Petrol  \n",
       "1533     Golf     Manual  Petrol  \n",
       "10152  Tiguan     Manual  Diesel  \n",
       "5322     Golf     Manual  Petrol  \n",
       "4461     Golf  Automatic  Petrol  \n",
       "7013     Polo     Manual  Petrol  \n",
       "12662      Up     Manual  Petrol  \n",
       "7430     Polo     Manual  Petrol  "
      ]
     },
     "execution_count": 310,
     "metadata": {},
     "output_type": "execute_result"
    }
   ],
   "source": [
    "review.sort_values('error').head(10)"
   ]
  },
  {
   "cell_type": "markdown",
   "id": "4af40c13",
   "metadata": {},
   "source": [
    "#### And the ten worst predictions:"
   ]
  },
  {
   "cell_type": "code",
   "execution_count": 311,
   "id": "539dbfc8",
   "metadata": {},
   "outputs": [
    {
     "data": {
      "text/html": [
       "<div>\n",
       "<style scoped>\n",
       "    .dataframe tbody tr th:only-of-type {\n",
       "        vertical-align: middle;\n",
       "    }\n",
       "\n",
       "    .dataframe tbody tr th {\n",
       "        vertical-align: top;\n",
       "    }\n",
       "\n",
       "    .dataframe thead th {\n",
       "        text-align: right;\n",
       "    }\n",
       "</style>\n",
       "<table border=\"1\" class=\"dataframe\">\n",
       "  <thead>\n",
       "    <tr style=\"text-align: right;\">\n",
       "      <th></th>\n",
       "      <th>year</th>\n",
       "      <th>mileage</th>\n",
       "      <th>tax</th>\n",
       "      <th>mpg</th>\n",
       "      <th>engineSize</th>\n",
       "      <th>price</th>\n",
       "      <th>predicted</th>\n",
       "      <th>error</th>\n",
       "      <th>model</th>\n",
       "      <th>gearbox</th>\n",
       "      <th>fuel</th>\n",
       "    </tr>\n",
       "  </thead>\n",
       "  <tbody>\n",
       "    <tr>\n",
       "      <th>8720</th>\n",
       "      <td>2019</td>\n",
       "      <td>5528</td>\n",
       "      <td>150</td>\n",
       "      <td>52.3</td>\n",
       "      <td>1.0</td>\n",
       "      <td>5528</td>\n",
       "      <td>14390.616211</td>\n",
       "      <td>1.603223</td>\n",
       "      <td>Polo</td>\n",
       "      <td>Manual</td>\n",
       "      <td>Petrol</td>\n",
       "    </tr>\n",
       "    <tr>\n",
       "      <th>6322</th>\n",
       "      <td>2010</td>\n",
       "      <td>168000</td>\n",
       "      <td>125</td>\n",
       "      <td>60.1</td>\n",
       "      <td>2.0</td>\n",
       "      <td>1495</td>\n",
       "      <td>2926.455566</td>\n",
       "      <td>0.957495</td>\n",
       "      <td>Passat</td>\n",
       "      <td>Manual</td>\n",
       "      <td>Diesel</td>\n",
       "    </tr>\n",
       "    <tr>\n",
       "      <th>9343</th>\n",
       "      <td>2009</td>\n",
       "      <td>65024</td>\n",
       "      <td>150</td>\n",
       "      <td>48.7</td>\n",
       "      <td>1.2</td>\n",
       "      <td>1990</td>\n",
       "      <td>3849.177979</td>\n",
       "      <td>0.934260</td>\n",
       "      <td>Polo</td>\n",
       "      <td>Manual</td>\n",
       "      <td>Petrol</td>\n",
       "    </tr>\n",
       "    <tr>\n",
       "      <th>5605</th>\n",
       "      <td>2014</td>\n",
       "      <td>80</td>\n",
       "      <td>150</td>\n",
       "      <td>54.3</td>\n",
       "      <td>2.0</td>\n",
       "      <td>7000</td>\n",
       "      <td>13139.367188</td>\n",
       "      <td>0.877052</td>\n",
       "      <td>Passat</td>\n",
       "      <td>Automatic</td>\n",
       "      <td>Diesel</td>\n",
       "    </tr>\n",
       "    <tr>\n",
       "      <th>13474</th>\n",
       "      <td>2006</td>\n",
       "      <td>106000</td>\n",
       "      <td>325</td>\n",
       "      <td>34.4</td>\n",
       "      <td>2.5</td>\n",
       "      <td>14495</td>\n",
       "      <td>6345.093262</td>\n",
       "      <td>0.562256</td>\n",
       "      <td>Caravelle</td>\n",
       "      <td>Manual</td>\n",
       "      <td>Diesel</td>\n",
       "    </tr>\n",
       "    <tr>\n",
       "      <th>3016</th>\n",
       "      <td>2015</td>\n",
       "      <td>54000</td>\n",
       "      <td>260</td>\n",
       "      <td>36.7</td>\n",
       "      <td>2.0</td>\n",
       "      <td>11995</td>\n",
       "      <td>18099.851562</td>\n",
       "      <td>0.508950</td>\n",
       "      <td>Golf</td>\n",
       "      <td>Semi-Auto</td>\n",
       "      <td>Petrol</td>\n",
       "    </tr>\n",
       "    <tr>\n",
       "      <th>5472</th>\n",
       "      <td>2010</td>\n",
       "      <td>56610</td>\n",
       "      <td>125</td>\n",
       "      <td>58.9</td>\n",
       "      <td>1.6</td>\n",
       "      <td>3750</td>\n",
       "      <td>5591.566895</td>\n",
       "      <td>0.491085</td>\n",
       "      <td>Golf</td>\n",
       "      <td>Manual</td>\n",
       "      <td>Diesel</td>\n",
       "    </tr>\n",
       "    <tr>\n",
       "      <th>11850</th>\n",
       "      <td>2016</td>\n",
       "      <td>11000</td>\n",
       "      <td>145</td>\n",
       "      <td>53.3</td>\n",
       "      <td>2.0</td>\n",
       "      <td>11995</td>\n",
       "      <td>17719.074219</td>\n",
       "      <td>0.477205</td>\n",
       "      <td>Tiguan</td>\n",
       "      <td>Manual</td>\n",
       "      <td>Diesel</td>\n",
       "    </tr>\n",
       "    <tr>\n",
       "      <th>13324</th>\n",
       "      <td>2006</td>\n",
       "      <td>78356</td>\n",
       "      <td>325</td>\n",
       "      <td>32.1</td>\n",
       "      <td>2.0</td>\n",
       "      <td>2695</td>\n",
       "      <td>3967.162598</td>\n",
       "      <td>0.472045</td>\n",
       "      <td>Beetle</td>\n",
       "      <td>Manual</td>\n",
       "      <td>Petrol</td>\n",
       "    </tr>\n",
       "    <tr>\n",
       "      <th>15040</th>\n",
       "      <td>2016</td>\n",
       "      <td>4289</td>\n",
       "      <td>200</td>\n",
       "      <td>39.2</td>\n",
       "      <td>1.8</td>\n",
       "      <td>15000</td>\n",
       "      <td>22008.580078</td>\n",
       "      <td>0.467239</td>\n",
       "      <td>CC</td>\n",
       "      <td>Semi-Auto</td>\n",
       "      <td>Petrol</td>\n",
       "    </tr>\n",
       "  </tbody>\n",
       "</table>\n",
       "</div>"
      ],
      "text/plain": [
       "       year  mileage  tax   mpg  engineSize  price     predicted     error  \\\n",
       "8720   2019     5528  150  52.3         1.0   5528  14390.616211  1.603223   \n",
       "6322   2010   168000  125  60.1         2.0   1495   2926.455566  0.957495   \n",
       "9343   2009    65024  150  48.7         1.2   1990   3849.177979  0.934260   \n",
       "5605   2014       80  150  54.3         2.0   7000  13139.367188  0.877052   \n",
       "13474  2006   106000  325  34.4         2.5  14495   6345.093262  0.562256   \n",
       "3016   2015    54000  260  36.7         2.0  11995  18099.851562  0.508950   \n",
       "5472   2010    56610  125  58.9         1.6   3750   5591.566895  0.491085   \n",
       "11850  2016    11000  145  53.3         2.0  11995  17719.074219  0.477205   \n",
       "13324  2006    78356  325  32.1         2.0   2695   3967.162598  0.472045   \n",
       "15040  2016     4289  200  39.2         1.8  15000  22008.580078  0.467239   \n",
       "\n",
       "           model    gearbox    fuel  \n",
       "8720        Polo     Manual  Petrol  \n",
       "6322      Passat     Manual  Diesel  \n",
       "9343        Polo     Manual  Petrol  \n",
       "5605      Passat  Automatic  Diesel  \n",
       "13474  Caravelle     Manual  Diesel  \n",
       "3016        Golf  Semi-Auto  Petrol  \n",
       "5472        Golf     Manual  Diesel  \n",
       "11850     Tiguan     Manual  Diesel  \n",
       "13324     Beetle     Manual  Petrol  \n",
       "15040         CC  Semi-Auto  Petrol  "
      ]
     },
     "execution_count": 311,
     "metadata": {},
     "output_type": "execute_result"
    }
   ],
   "source": [
    "review.sort_values('error', ascending = False).head(10)"
   ]
  },
  {
   "cell_type": "markdown",
   "id": "7d7e2360",
   "metadata": {},
   "source": [
    "#### Comments:\n",
    "1. A very low price for a recent model, low mileage. The price is actually identical to the mileage! Possible data error\n",
    "2. Very high mileage - difficult to price.\n",
    "3. Extremely low mileage (80) for an oldish car (2014). Perhaps a data error?\n",
    "4. Also high mileage, oldish car."
   ]
  },
  {
   "cell_type": "code",
   "execution_count": 312,
   "id": "1d1f2001",
   "metadata": {},
   "outputs": [
    {
     "data": {
      "image/png": "[encoded data removed]",
      "text/plain": [
       "<Figure size 1332x756 with 6 Axes>"
      ]
     },
     "metadata": {
      "needs_background": "light"
     },
     "output_type": "display_data"
    }
   ],
   "source": [
    "fig, ax =plt.subplots(2,3)\n",
    "fig.set_size_inches(18.5, 10.5)\n",
    "sns.scatterplot(x=review['price'],y=review['error'], hue=review['gearbox'], ax=ax[0,0])\n",
    "sns.scatterplot(x=review['year'],y=review['error'], hue=review['fuel'], ax=ax[0,1])\n",
    "sns.scatterplot(x=review['mpg'],y=review['error'], ax=ax[0,2])\n",
    "sns.scatterplot(x=review['tax'],y=review['error'], ax=ax[1,0])\n",
    "sns.scatterplot(x=review['engineSize'],y=review['error'], ax=ax[1,1])\n",
    "sns.scatterplot(x=review['model'],y=review['error'], ax=ax[1,2])\n",
    "x = plt.xticks(rotation=90)"
   ]
  },
  {
   "cell_type": "markdown",
   "id": "543a2016",
   "metadata": {},
   "source": [
    "## 5. Conclusions<a id='s5'></a>\n",
    "The model performs very well for the most part: R2-score = 96.2% which is a significant step forwards from a linear model (87.9%). Where it does perform badly, it can perform very badly, however. Several predictions are more than double the actual price, although there is a suspicion that data error is involved in some of the worst cases.\n",
    "\n",
    "Comparison of the error with model features shows that the low end of the market is the most error-prone. This makes sense, since the low end will be subject to arbitrary discounts for poor bodywork, mechanical problems etc, which are not reflected as features of the model in any way."
   ]
  },
  {
   "cell_type": "code",
   "execution_count": null,
   "id": "9d9b3ac0",
   "metadata": {},
   "outputs": [],
   "source": []
  }
 ],
 "metadata": {
  "kernelspec": {
   "display_name": "Python 3 (ipykernel)",
   "language": "python",
   "name": "python3"
  },
  "language_info": {
   "codemirror_mode": {
    "name": "ipython",
    "version": 3
   },
   "file_extension": ".py",
   "mimetype": "text/x-python",
   "name": "python",
   "nbconvert_exporter": "python",
   "pygments_lexer": "ipython3",
   "version": "3.9.7"
  }
 },
 "nbformat": 4,
 "nbformat_minor": 5
}
