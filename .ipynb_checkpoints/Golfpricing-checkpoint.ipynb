{
 "cells": [
  {
   "cell_type": "code",
   "execution_count": 2,
   "id": "bdeccdc3",
   "metadata": {},
   "outputs": [],
   "source": [
    "import numpy as np\n",
    "import pandas as pd\n",
    "import seaborn as sns\n",
    "import matplotlib.pyplot as plt\n",
    "%matplotlib inline"
   ]
  },
  {
   "cell_type": "code",
   "execution_count": 3,
   "id": "00a55ac0",
   "metadata": {},
   "outputs": [],
   "source": [
    "df = pd.read_csv(\"vw.csv\")"
   ]
  },
  {
   "cell_type": "code",
   "execution_count": 4,
   "id": "a0ebf8c1",
   "metadata": {},
   "outputs": [
    {
     "name": "stdout",
     "output_type": "stream",
     "text": [
      "<class 'pandas.core.frame.DataFrame'>\n",
      "RangeIndex: 15157 entries, 0 to 15156\n",
      "Data columns (total 9 columns):\n",
      " #   Column        Non-Null Count  Dtype  \n",
      "---  ------        --------------  -----  \n",
      " 0   model         15157 non-null  object \n",
      " 1   year          15157 non-null  int64  \n",
      " 2   price         15157 non-null  int64  \n",
      " 3   transmission  15157 non-null  object \n",
      " 4   mileage       15157 non-null  int64  \n",
      " 5   fuelType      15157 non-null  object \n",
      " 6   tax           15157 non-null  int64  \n",
      " 7   mpg           15157 non-null  float64\n",
      " 8   engineSize    15157 non-null  float64\n",
      "dtypes: float64(2), int64(4), object(3)\n",
      "memory usage: 1.0+ MB\n"
     ]
    }
   ],
   "source": [
    "df.info()"
   ]
  },
  {
   "cell_type": "code",
   "execution_count": 5,
   "id": "2a71dc0b",
   "metadata": {},
   "outputs": [
    {
     "data": {
      "text/plain": [
       " Golf               4863\n",
       " Polo               3287\n",
       " Tiguan             1765\n",
       " Passat              915\n",
       " Up                  884\n",
       " T-Roc               733\n",
       " Touareg             363\n",
       " Touran              352\n",
       " T-Cross             300\n",
       " Golf SV             268\n",
       " Sharan              260\n",
       " Arteon              248\n",
       " Scirocco            242\n",
       " Amarok              111\n",
       " Caravelle           101\n",
       " CC                   95\n",
       " Tiguan Allspace      91\n",
       " Beetle               83\n",
       " Shuttle              61\n",
       " Caddy Maxi Life      59\n",
       " Jetta                32\n",
       " California           15\n",
       " Caddy Life            8\n",
       " Eos                   7\n",
       " Caddy                 6\n",
       " Caddy Maxi            4\n",
       " Fox                   4\n",
       "Name: model, dtype: int64"
      ]
     },
     "execution_count": 5,
     "metadata": {},
     "output_type": "execute_result"
    }
   ],
   "source": [
    "df['model'].value_counts()"
   ]
  },
  {
   "cell_type": "code",
   "execution_count": 6,
   "id": "2b186b20",
   "metadata": {},
   "outputs": [],
   "source": [
    "df['model'] = [x[1:] for x in df['model']]\n",
    "df = df[df['model']=='Golf']"
   ]
  },
  {
   "cell_type": "code",
   "execution_count": 8,
   "id": "70f9cd9e",
   "metadata": {},
   "outputs": [],
   "source": [
    "df.drop('model', axis=1, inplace=True)"
   ]
  },
  {
   "cell_type": "code",
   "execution_count": 9,
   "id": "d6c4e135",
   "metadata": {},
   "outputs": [
    {
     "data": {
      "text/plain": [
       "436"
      ]
     },
     "execution_count": 9,
     "metadata": {},
     "output_type": "execute_result"
    }
   ],
   "source": [
    "sum(df['tax'] == 0)"
   ]
  },
  {
   "cell_type": "code",
   "execution_count": 10,
   "id": "6482e454",
   "metadata": {},
   "outputs": [],
   "source": [
    "df['tax'].mask(df['tax'] == 0, 145.0, inplace=True)"
   ]
  },
  {
   "cell_type": "code",
   "execution_count": 11,
   "id": "9ec6b944",
   "metadata": {},
   "outputs": [
    {
     "data": {
      "text/plain": [
       "3"
      ]
     },
     "execution_count": 11,
     "metadata": {},
     "output_type": "execute_result"
    }
   ],
   "source": [
    "sum(df['engineSize']==0)"
   ]
  },
  {
   "cell_type": "code",
   "execution_count": 12,
   "id": "bbd09142",
   "metadata": {},
   "outputs": [],
   "source": [
    "df['engineSize'].mask(df['engineSize'] == 0.0, 1.6, inplace=True)"
   ]
  },
  {
   "cell_type": "code",
   "execution_count": 13,
   "id": "e0dfc731",
   "metadata": {},
   "outputs": [
    {
     "data": {
      "text/plain": [
       "0"
      ]
     },
     "execution_count": 13,
     "metadata": {},
     "output_type": "execute_result"
    }
   ],
   "source": [
    "sum(df['mpg']<20)"
   ]
  },
  {
   "cell_type": "code",
   "execution_count": 14,
   "id": "ddb3772b",
   "metadata": {},
   "outputs": [],
   "source": [
    "df['mpg'].mask(df['mpg'] < 20, 53.3, inplace=True)"
   ]
  },
  {
   "cell_type": "code",
   "execution_count": 15,
   "id": "9f593aa3",
   "metadata": {},
   "outputs": [
    {
     "data": {
      "text/html": [
       "<div>\n",
       "<style scoped>\n",
       "    .dataframe tbody tr th:only-of-type {\n",
       "        vertical-align: middle;\n",
       "    }\n",
       "\n",
       "    .dataframe tbody tr th {\n",
       "        vertical-align: top;\n",
       "    }\n",
       "\n",
       "    .dataframe thead th {\n",
       "        text-align: right;\n",
       "    }\n",
       "</style>\n",
       "<table border=\"1\" class=\"dataframe\">\n",
       "  <thead>\n",
       "    <tr style=\"text-align: right;\">\n",
       "      <th></th>\n",
       "      <th>year</th>\n",
       "      <th>price</th>\n",
       "      <th>mileage</th>\n",
       "      <th>tax</th>\n",
       "      <th>mpg</th>\n",
       "      <th>engineSize</th>\n",
       "    </tr>\n",
       "  </thead>\n",
       "  <tbody>\n",
       "    <tr>\n",
       "      <th>count</th>\n",
       "      <td>4863.000000</td>\n",
       "      <td>4863.000000</td>\n",
       "      <td>4863.000000</td>\n",
       "      <td>4863.000000</td>\n",
       "      <td>4863.000000</td>\n",
       "      <td>4863.000000</td>\n",
       "    </tr>\n",
       "    <tr>\n",
       "      <th>mean</th>\n",
       "      <td>2017.141476</td>\n",
       "      <td>16689.685379</td>\n",
       "      <td>24434.751388</td>\n",
       "      <td>114.556858</td>\n",
       "      <td>56.076784</td>\n",
       "      <td>1.668888</td>\n",
       "    </tr>\n",
       "    <tr>\n",
       "      <th>std</th>\n",
       "      <td>2.054415</td>\n",
       "      <td>5774.666666</td>\n",
       "      <td>21826.854585</td>\n",
       "      <td>57.512755</td>\n",
       "      <td>17.684089</td>\n",
       "      <td>0.302697</td>\n",
       "    </tr>\n",
       "    <tr>\n",
       "      <th>min</th>\n",
       "      <td>2000.000000</td>\n",
       "      <td>1275.000000</td>\n",
       "      <td>1.000000</td>\n",
       "      <td>20.000000</td>\n",
       "      <td>24.600000</td>\n",
       "      <td>1.000000</td>\n",
       "    </tr>\n",
       "    <tr>\n",
       "      <th>25%</th>\n",
       "      <td>2016.000000</td>\n",
       "      <td>12490.000000</td>\n",
       "      <td>7000.000000</td>\n",
       "      <td>30.000000</td>\n",
       "      <td>47.100000</td>\n",
       "      <td>1.500000</td>\n",
       "    </tr>\n",
       "    <tr>\n",
       "      <th>50%</th>\n",
       "      <td>2017.000000</td>\n",
       "      <td>16000.000000</td>\n",
       "      <td>18814.000000</td>\n",
       "      <td>145.000000</td>\n",
       "      <td>53.300000</td>\n",
       "      <td>1.600000</td>\n",
       "    </tr>\n",
       "    <tr>\n",
       "      <th>75%</th>\n",
       "      <td>2019.000000</td>\n",
       "      <td>19995.000000</td>\n",
       "      <td>35513.000000</td>\n",
       "      <td>145.000000</td>\n",
       "      <td>62.800000</td>\n",
       "      <td>2.000000</td>\n",
       "    </tr>\n",
       "    <tr>\n",
       "      <th>max</th>\n",
       "      <td>2020.000000</td>\n",
       "      <td>41990.000000</td>\n",
       "      <td>193000.000000</td>\n",
       "      <td>570.000000</td>\n",
       "      <td>188.300000</td>\n",
       "      <td>3.200000</td>\n",
       "    </tr>\n",
       "  </tbody>\n",
       "</table>\n",
       "</div>"
      ],
      "text/plain": [
       "              year         price        mileage          tax          mpg  \\\n",
       "count  4863.000000   4863.000000    4863.000000  4863.000000  4863.000000   \n",
       "mean   2017.141476  16689.685379   24434.751388   114.556858    56.076784   \n",
       "std       2.054415   5774.666666   21826.854585    57.512755    17.684089   \n",
       "min    2000.000000   1275.000000       1.000000    20.000000    24.600000   \n",
       "25%    2016.000000  12490.000000    7000.000000    30.000000    47.100000   \n",
       "50%    2017.000000  16000.000000   18814.000000   145.000000    53.300000   \n",
       "75%    2019.000000  19995.000000   35513.000000   145.000000    62.800000   \n",
       "max    2020.000000  41990.000000  193000.000000   570.000000   188.300000   \n",
       "\n",
       "        engineSize  \n",
       "count  4863.000000  \n",
       "mean      1.668888  \n",
       "std       0.302697  \n",
       "min       1.000000  \n",
       "25%       1.500000  \n",
       "50%       1.600000  \n",
       "75%       2.000000  \n",
       "max       3.200000  "
      ]
     },
     "execution_count": 15,
     "metadata": {},
     "output_type": "execute_result"
    }
   ],
   "source": [
    "df.describe()"
   ]
  },
  {
   "cell_type": "code",
   "execution_count": 16,
   "id": "505d22c9",
   "metadata": {},
   "outputs": [
    {
     "data": {
      "text/plain": [
       "<AxesSubplot:xlabel='mileage', ylabel='Count'>"
      ]
     },
     "execution_count": 16,
     "metadata": {},
     "output_type": "execute_result"
    },
    {
     "data": {
      "image/png": "[encoded data removed]",
      "text/plain": [
       "<Figure size 432x288 with 1 Axes>"
      ]
     },
     "metadata": {
      "needs_background": "light"
     },
     "output_type": "display_data"
    }
   ],
   "source": [
    "sns.histplot(df['mileage'])"
   ]
  },
  {
   "cell_type": "code",
   "execution_count": 17,
   "id": "36500743",
   "metadata": {},
   "outputs": [
    {
     "data": {
      "text/plain": [
       "<AxesSubplot:xlabel='mpg', ylabel='Count'>"
      ]
     },
     "execution_count": 17,
     "metadata": {},
     "output_type": "execute_result"
    },
    {
     "data": {
      "image/png": "[encoded data removed]",
      "text/plain": [
       "<Figure size 432x288 with 1 Axes>"
      ]
     },
     "metadata": {
      "needs_background": "light"
     },
     "output_type": "display_data"
    }
   ],
   "source": [
    "sns.histplot(df['mpg'])"
   ]
  },
  {
   "cell_type": "code",
   "execution_count": 18,
   "id": "71f470dd",
   "metadata": {},
   "outputs": [
    {
     "data": {
      "text/html": [
       "<div>\n",
       "<style scoped>\n",
       "    .dataframe tbody tr th:only-of-type {\n",
       "        vertical-align: middle;\n",
       "    }\n",
       "\n",
       "    .dataframe tbody tr th {\n",
       "        vertical-align: top;\n",
       "    }\n",
       "\n",
       "    .dataframe thead th {\n",
       "        text-align: right;\n",
       "    }\n",
       "</style>\n",
       "<table border=\"1\" class=\"dataframe\">\n",
       "  <thead>\n",
       "    <tr style=\"text-align: right;\">\n",
       "      <th></th>\n",
       "      <th>year</th>\n",
       "      <th>price</th>\n",
       "      <th>transmission</th>\n",
       "      <th>mileage</th>\n",
       "      <th>fuelType</th>\n",
       "      <th>tax</th>\n",
       "      <th>mpg</th>\n",
       "      <th>engineSize</th>\n",
       "    </tr>\n",
       "  </thead>\n",
       "  <tbody>\n",
       "    <tr>\n",
       "      <th>4365</th>\n",
       "      <td>2020</td>\n",
       "      <td>29999</td>\n",
       "      <td>Automatic</td>\n",
       "      <td>1000</td>\n",
       "      <td>Hybrid</td>\n",
       "      <td>135</td>\n",
       "      <td>141.3</td>\n",
       "      <td>1.4</td>\n",
       "    </tr>\n",
       "    <tr>\n",
       "      <th>4377</th>\n",
       "      <td>2020</td>\n",
       "      <td>32999</td>\n",
       "      <td>Automatic</td>\n",
       "      <td>1000</td>\n",
       "      <td>Hybrid</td>\n",
       "      <td>135</td>\n",
       "      <td>141.3</td>\n",
       "      <td>1.4</td>\n",
       "    </tr>\n",
       "    <tr>\n",
       "      <th>4164</th>\n",
       "      <td>2020</td>\n",
       "      <td>29995</td>\n",
       "      <td>Semi-Auto</td>\n",
       "      <td>2000</td>\n",
       "      <td>Hybrid</td>\n",
       "      <td>135</td>\n",
       "      <td>141.3</td>\n",
       "      <td>1.4</td>\n",
       "    </tr>\n",
       "    <tr>\n",
       "      <th>3657</th>\n",
       "      <td>2020</td>\n",
       "      <td>32998</td>\n",
       "      <td>Semi-Auto</td>\n",
       "      <td>5000</td>\n",
       "      <td>Hybrid</td>\n",
       "      <td>135</td>\n",
       "      <td>141.3</td>\n",
       "      <td>1.4</td>\n",
       "    </tr>\n",
       "    <tr>\n",
       "      <th>1869</th>\n",
       "      <td>2020</td>\n",
       "      <td>30999</td>\n",
       "      <td>Semi-Auto</td>\n",
       "      <td>3000</td>\n",
       "      <td>Hybrid</td>\n",
       "      <td>135</td>\n",
       "      <td>141.3</td>\n",
       "      <td>1.4</td>\n",
       "    </tr>\n",
       "    <tr>\n",
       "      <th>...</th>\n",
       "      <td>...</td>\n",
       "      <td>...</td>\n",
       "      <td>...</td>\n",
       "      <td>...</td>\n",
       "      <td>...</td>\n",
       "      <td>...</td>\n",
       "      <td>...</td>\n",
       "      <td>...</td>\n",
       "    </tr>\n",
       "    <tr>\n",
       "      <th>2690</th>\n",
       "      <td>2016</td>\n",
       "      <td>14991</td>\n",
       "      <td>Automatic</td>\n",
       "      <td>53188</td>\n",
       "      <td>Hybrid</td>\n",
       "      <td>145</td>\n",
       "      <td>188.3</td>\n",
       "      <td>1.4</td>\n",
       "    </tr>\n",
       "    <tr>\n",
       "      <th>3259</th>\n",
       "      <td>2017</td>\n",
       "      <td>21490</td>\n",
       "      <td>Semi-Auto</td>\n",
       "      <td>13075</td>\n",
       "      <td>Hybrid</td>\n",
       "      <td>145</td>\n",
       "      <td>188.3</td>\n",
       "      <td>1.4</td>\n",
       "    </tr>\n",
       "    <tr>\n",
       "      <th>4352</th>\n",
       "      <td>2016</td>\n",
       "      <td>17999</td>\n",
       "      <td>Automatic</td>\n",
       "      <td>31513</td>\n",
       "      <td>Hybrid</td>\n",
       "      <td>145</td>\n",
       "      <td>188.3</td>\n",
       "      <td>1.4</td>\n",
       "    </tr>\n",
       "    <tr>\n",
       "      <th>2300</th>\n",
       "      <td>2016</td>\n",
       "      <td>13998</td>\n",
       "      <td>Semi-Auto</td>\n",
       "      <td>73581</td>\n",
       "      <td>Hybrid</td>\n",
       "      <td>145</td>\n",
       "      <td>188.3</td>\n",
       "      <td>1.4</td>\n",
       "    </tr>\n",
       "    <tr>\n",
       "      <th>3736</th>\n",
       "      <td>2015</td>\n",
       "      <td>16299</td>\n",
       "      <td>Semi-Auto</td>\n",
       "      <td>33246</td>\n",
       "      <td>Hybrid</td>\n",
       "      <td>145</td>\n",
       "      <td>188.3</td>\n",
       "      <td>1.4</td>\n",
       "    </tr>\n",
       "  </tbody>\n",
       "</table>\n",
       "<p>75 rows × 8 columns</p>\n",
       "</div>"
      ],
      "text/plain": [
       "      year  price transmission  mileage fuelType  tax    mpg  engineSize\n",
       "4365  2020  29999    Automatic     1000   Hybrid  135  141.3         1.4\n",
       "4377  2020  32999    Automatic     1000   Hybrid  135  141.3         1.4\n",
       "4164  2020  29995    Semi-Auto     2000   Hybrid  135  141.3         1.4\n",
       "3657  2020  32998    Semi-Auto     5000   Hybrid  135  141.3         1.4\n",
       "1869  2020  30999    Semi-Auto     3000   Hybrid  135  141.3         1.4\n",
       "...    ...    ...          ...      ...      ...  ...    ...         ...\n",
       "2690  2016  14991    Automatic    53188   Hybrid  145  188.3         1.4\n",
       "3259  2017  21490    Semi-Auto    13075   Hybrid  145  188.3         1.4\n",
       "4352  2016  17999    Automatic    31513   Hybrid  145  188.3         1.4\n",
       "2300  2016  13998    Semi-Auto    73581   Hybrid  145  188.3         1.4\n",
       "3736  2015  16299    Semi-Auto    33246   Hybrid  145  188.3         1.4\n",
       "\n",
       "[75 rows x 8 columns]"
      ]
     },
     "execution_count": 18,
     "metadata": {},
     "output_type": "execute_result"
    }
   ],
   "source": [
    "df[df['mpg']>100].sort_values(\"mpg\")"
   ]
  },
  {
   "cell_type": "code",
   "execution_count": 19,
   "id": "56be58c2",
   "metadata": {},
   "outputs": [
    {
     "data": {
      "text/plain": [
       "<AxesSubplot:>"
      ]
     },
     "execution_count": 19,
     "metadata": {},
     "output_type": "execute_result"
    },
    {
     "data": {
      "image/png": "[encoded data removed]",
      "text/plain": [
       "<Figure size 432x288 with 2 Axes>"
      ]
     },
     "metadata": {
      "needs_background": "light"
     },
     "output_type": "display_data"
    }
   ],
   "source": [
    "sns.heatmap(df.drop('price', axis=1).corr(),cmap='BrBG')"
   ]
  },
  {
   "cell_type": "code",
   "execution_count": 20,
   "id": "b905ce4a",
   "metadata": {},
   "outputs": [],
   "source": [
    "categoricals = df.select_dtypes(include='object').columns\n",
    "for col_name in categoricals:\n",
    "    coded = pd.get_dummies(df[col_name])\n",
    "    df = pd.concat([df.drop(col_name,axis=1),coded],axis=1)"
   ]
  },
  {
   "cell_type": "code",
   "execution_count": 21,
   "id": "fdb9a17d",
   "metadata": {},
   "outputs": [
    {
     "name": "stdout",
     "output_type": "stream",
     "text": [
      "<class 'pandas.core.frame.DataFrame'>\n",
      "Int64Index: 4863 entries, 733 to 5595\n",
      "Data columns (total 13 columns):\n",
      " #   Column      Non-Null Count  Dtype  \n",
      "---  ------      --------------  -----  \n",
      " 0   year        4863 non-null   int64  \n",
      " 1   price       4863 non-null   int64  \n",
      " 2   mileage     4863 non-null   int64  \n",
      " 3   tax         4863 non-null   int64  \n",
      " 4   mpg         4863 non-null   float64\n",
      " 5   engineSize  4863 non-null   float64\n",
      " 6   Automatic   4863 non-null   uint8  \n",
      " 7   Manual      4863 non-null   uint8  \n",
      " 8   Semi-Auto   4863 non-null   uint8  \n",
      " 9   Diesel      4863 non-null   uint8  \n",
      " 10  Hybrid      4863 non-null   uint8  \n",
      " 11  Other       4863 non-null   uint8  \n",
      " 12  Petrol      4863 non-null   uint8  \n",
      "dtypes: float64(2), int64(4), uint8(7)\n",
      "memory usage: 299.2 KB\n"
     ]
    }
   ],
   "source": [
    "df.info()"
   ]
  },
  {
   "cell_type": "code",
   "execution_count": 25,
   "id": "f276b609",
   "metadata": {},
   "outputs": [],
   "source": [
    "from sklearn.model_selection import train_test_split\n",
    "X_train, X_test, y_train, y_test = train_test_split(df.drop(['price'],axis=1), df['price'], \n",
    "                                                    test_size=0.25, \n",
    "                                                    random_state=101)"
   ]
  },
  {
   "cell_type": "code",
   "execution_count": 26,
   "id": "975ef8a1",
   "metadata": {},
   "outputs": [],
   "source": [
    "import xgboost as xgb\n",
    "dmatrix = xgb.DMatrix(X_train, y_train)"
   ]
  },
  {
   "cell_type": "code",
   "execution_count": 27,
   "id": "049d3220",
   "metadata": {},
   "outputs": [],
   "source": [
    "import itertools\n",
    "#\n",
    "# Function to build and evaulate models with CV over a grid of hyperparameters\n",
    "#\n",
    "def gridXGB(paramlist, verbosity = 0):\n",
    "    if verbosity > 0:\n",
    "        print('train-rmse\\ttest-rmse\\trounds', end=' ')\n",
    "        for param in paramlist:\n",
    "            print('\\t'+(param+' '*10)[:11], end=' ')\n",
    "        print('\\n')\n",
    "    best = dict()\n",
    "    s = list(paramlist.values())\n",
    "    for paramset in itertools.product(*s):\n",
    "        params = dict(zip(list(paramlist.keys()), list(paramset)))\n",
    "        cv_results = xgb.cv(dtrain=dmatrix, params=params, nfold=3,\n",
    "                        num_boost_round=300,early_stopping_rounds=10,metrics=\"rmse\",\n",
    "                            as_pandas=True, seed=123, shuffle=True)\n",
    "        if verbosity > 0:\n",
    "            pst = \"{:0.0f}\".format(cv_results.tail(1)[\"train-rmse-mean\"].values[0])\n",
    "            pst = pst + \"\\t\\t{:0.0f}\".format(cv_results.tail(1)[\"test-rmse-mean\"].values[0])\n",
    "            pst = pst + \"\\t\\t\" + str(len(cv_results))\n",
    "            for param in params.values():\n",
    "                if isinstance(param,int):\n",
    "                    pst = pst + \"\\t\\t\"+str(param)\n",
    "                else:\n",
    "                    pst = pst + \"\\t\\t{:.1f}\".format(param)\n",
    "            print(pst)\n",
    "        if len(best) == 0 or best['test-rmse'] > cv_results.tail(1)[\"test-rmse-mean\"].values[0]:\n",
    "            best['train-rmse'] = cv_results.tail(1)[\"train-rmse-mean\"].values[0]\n",
    "            best['test-rmse'] = cv_results.tail(1)[\"test-rmse-mean\"].values[0]\n",
    "            best['rounds'] = len(cv_results)\n",
    "            best.update(params)\n",
    "    print(\"\\n Best values:\")\n",
    "    print('train-rmse\\ttest-rmse\\trounds', end=' ')\n",
    "    for param in paramlist:\n",
    "        print('\\t'+(param+' '*10)[:11], end=' ')\n",
    "    print('\\n')\n",
    "    pst = \"\"\n",
    "    pst = \"{:0.0f}\".format(best[\"train-rmse\"])\n",
    "    pst = pst + \"\\t\\t{:0.0f}\".format(best[\"test-rmse\"])\n",
    "    pst = pst + \"\\t\\t\" + str(best[\"rounds\"])\n",
    "    for param in paramlist:\n",
    "        if isinstance(best[param],int):\n",
    "            pst = pst+ \"\\t\\t\" +str(best[param])\n",
    "        else:\n",
    "            pst = pst+ \"\\t\\t\" +\"{:.1f}\".format(best[param])\n",
    "    print(pst)"
   ]
  },
  {
   "cell_type": "code",
   "execution_count": 28,
   "id": "2fff258e",
   "metadata": {},
   "outputs": [
    {
     "name": "stdout",
     "output_type": "stream",
     "text": [
      "train-rmse\ttest-rmse\trounds \tmax_depth   \tcolsample_b \tlearning_ra \n",
      "\n",
      "1143\t\t1354\t\t200\t\t4\t\t0.3\t\t0.1\n",
      "1073\t\t1331\t\t125\t\t4\t\t0.3\t\t0.3\n",
      "981\t\t1392\t\t109\t\t4\t\t0.3\t\t0.7\n",
      "1045\t\t1322\t\t200\t\t4\t\t0.5\t\t0.1\n",
      "979\t\t1342\t\t101\t\t4\t\t0.5\t\t0.3\n",
      "1005\t\t1400\t\t46\t\t4\t\t0.5\t\t0.7\n",
      "1024\t\t1309\t\t200\t\t4\t\t0.7\t\t0.1\n",
      "1020\t\t1326\t\t71\t\t4\t\t0.7\t\t0.3\n",
      "875\t\t1405\t\t66\t\t4\t\t0.7\t\t0.7\n",
      "696\t\t1386\t\t165\t\t10\t\t0.3\t\t0.1\n",
      "824\t\t1429\t\t46\t\t10\t\t0.3\t\t0.3\n",
      "695\t\t1672\t\t46\t\t10\t\t0.3\t\t0.7\n",
      "740\t\t1342\t\t71\t\t10\t\t0.5\t\t0.1\n",
      "780\t\t1390\t\t21\t\t10\t\t0.5\t\t0.3\n",
      "875\t\t1473\t\t7\t\t10\t\t0.5\t\t0.7\n",
      "685\t\t1323\t\t64\t\t10\t\t0.7\t\t0.1\n",
      "735\t\t1377\t\t19\t\t10\t\t0.7\t\t0.3\n",
      "777\t\t1489\t\t8\t\t10\t\t0.7\t\t0.7\n",
      "683\t\t1462\t\t96\t\t16\t\t0.3\t\t0.1\n",
      "666\t\t1492\t\t38\t\t16\t\t0.3\t\t0.3\n",
      "423\t\t1866\t\t40\t\t16\t\t0.3\t\t0.7\n",
      "578\t\t1363\t\t57\t\t16\t\t0.5\t\t0.1\n",
      "670\t\t1416\t\t17\t\t16\t\t0.5\t\t0.3\n",
      "579\t\t1517\t\t7\t\t16\t\t0.5\t\t0.7\n",
      "491\t\t1359\t\t54\t\t16\t\t0.7\t\t0.1\n",
      "547\t\t1402\t\t16\t\t16\t\t0.7\t\t0.3\n",
      "538\t\t1534\t\t7\t\t16\t\t0.7\t\t0.7\n",
      "\n",
      " Best values:\n",
      "train-rmse\ttest-rmse\trounds \tmax_depth   \tcolsample_b \tlearning_ra \n",
      "\n",
      "1024\t\t1309\t\t200\t\t4\t\t0.7\t\t0.1\n"
     ]
    }
   ],
   "source": [
    "gridXGB(paramlist={'max_depth':[4, 10, 16],\n",
    "             'colsample_bytree': [0.7],\n",
    "             'learning_rate' : [0.1, 0.3, 0.7]}, verbosity=1)"
   ]
  },
  {
   "cell_type": "code",
   "execution_count": 84,
   "id": "8cd26724",
   "metadata": {},
   "outputs": [
    {
     "name": "stdout",
     "output_type": "stream",
     "text": [
      "train-rmse\ttest-rmse \tmax_depth   \tcolsample_b \tlearning_ra \tgamma       \tlambda      \talpha       \n",
      "\n",
      "831\t\t1580\t\t16\t\t0.5\t\t0.1\t\t0\t\t1\t\t0\n",
      "829\t\t1581\t\t16\t\t0.5\t\t0.1\t\t0\t\t1\t\t1\n",
      "830\t\t1581\t\t16\t\t0.5\t\t0.1\t\t0\t\t1\t\t10\n",
      "974\t\t1585\t\t16\t\t0.5\t\t0.1\t\t0\t\t2\t\t0\n",
      "974\t\t1586\t\t16\t\t0.5\t\t0.1\t\t0\t\t2\t\t1\n",
      "979\t\t1587\t\t16\t\t0.5\t\t0.1\t\t0\t\t2\t\t10\n",
      "1371\t\t1674\t\t16\t\t0.5\t\t0.1\t\t0\t\t10\t\t0\n",
      "1370\t\t1675\t\t16\t\t0.5\t\t0.1\t\t0\t\t10\t\t1\n",
      "1369\t\t1675\t\t16\t\t0.5\t\t0.1\t\t0\t\t10\t\t10\n",
      "831\t\t1580\t\t16\t\t0.5\t\t0.1\t\t1\t\t1\t\t0\n",
      "829\t\t1581\t\t16\t\t0.5\t\t0.1\t\t1\t\t1\t\t1\n",
      "830\t\t1581\t\t16\t\t0.5\t\t0.1\t\t1\t\t1\t\t10\n",
      "974\t\t1585\t\t16\t\t0.5\t\t0.1\t\t1\t\t2\t\t0\n",
      "974\t\t1586\t\t16\t\t0.5\t\t0.1\t\t1\t\t2\t\t1\n",
      "979\t\t1587\t\t16\t\t0.5\t\t0.1\t\t1\t\t2\t\t10\n",
      "1371\t\t1674\t\t16\t\t0.5\t\t0.1\t\t1\t\t10\t\t0\n",
      "1370\t\t1675\t\t16\t\t0.5\t\t0.1\t\t1\t\t10\t\t1\n",
      "1369\t\t1675\t\t16\t\t0.5\t\t0.1\t\t1\t\t10\t\t10\n",
      "831\t\t1580\t\t16\t\t0.5\t\t0.1\t\t10\t\t1\t\t0\n",
      "829\t\t1581\t\t16\t\t0.5\t\t0.1\t\t10\t\t1\t\t1\n",
      "830\t\t1582\t\t16\t\t0.5\t\t0.1\t\t10\t\t1\t\t10\n",
      "974\t\t1585\t\t16\t\t0.5\t\t0.1\t\t10\t\t2\t\t0\n",
      "976\t\t1586\t\t16\t\t0.5\t\t0.1\t\t10\t\t2\t\t1\n",
      "979\t\t1587\t\t16\t\t0.5\t\t0.1\t\t10\t\t2\t\t10\n",
      "1371\t\t1674\t\t16\t\t0.5\t\t0.1\t\t10\t\t10\t\t0\n",
      "1370\t\t1675\t\t16\t\t0.5\t\t0.1\t\t10\t\t10\t\t1\n",
      "1369\t\t1675\t\t16\t\t0.5\t\t0.1\t\t10\t\t10\t\t10\n",
      "\n",
      " Best values:\n",
      "train-rmse\ttest-rmse \tmax_depth   \tcolsample_b \tlearning_ra \tgamma       \tlambda      \talpha       \n",
      "\n",
      "831\t\t1580\t\t16\t\t0.5\t\t0.1\t\t0\t\t1\t\t0\n"
     ]
    }
   ],
   "source": [
    "gridXGB(paramlist={'max_depth':[16],\n",
    "             'colsample_bytree': [0.5],\n",
    "             'learning_rate' : [0.1],\n",
    "              'gamma' : [0, 1, 10],\n",
    "              'lambda' : [1, 2, 10],\n",
    "               'alpha' : [0, 1, 10]}, verbosity=1)"
   ]
  },
  {
   "cell_type": "code",
   "execution_count": 86,
   "id": "920d0249",
   "metadata": {},
   "outputs": [
    {
     "name": "stdout",
     "output_type": "stream",
     "text": [
      "train-rmse\ttest-rmse \tmax_depth   \tcolsample_b \tlearning_ra \tsubsample   \n",
      "\n",
      "1686\t\t1846\t\t10\t\t0.5\t\t0.1\t\t0.1\n",
      "1424\t\t1701\t\t10\t\t0.5\t\t0.1\t\t0.3\n",
      "1323\t\t1659\t\t10\t\t0.5\t\t0.1\t\t0.5\n",
      "1253\t\t1633\t\t10\t\t0.5\t\t0.1\t\t0.7\n",
      "1213\t\t1617\t\t10\t\t0.5\t\t0.1\t\t0.9\n",
      "1651\t\t1834\t\t12\t\t0.5\t\t0.1\t\t0.1\n",
      "1352\t\t1687\t\t12\t\t0.5\t\t0.1\t\t0.3\n",
      "1236\t\t1643\t\t12\t\t0.5\t\t0.1\t\t0.5\n",
      "1146\t\t1621\t\t12\t\t0.5\t\t0.1\t\t0.7\n",
      "1093\t\t1600\t\t12\t\t0.5\t\t0.1\t\t0.9\n",
      "1635\t\t1835\t\t14\t\t0.5\t\t0.1\t\t0.1\n",
      "1306\t\t1680\t\t14\t\t0.5\t\t0.1\t\t0.3\n",
      "1167\t\t1637\t\t14\t\t0.5\t\t0.1\t\t0.5\n",
      "1069\t\t1615\t\t14\t\t0.5\t\t0.1\t\t0.7\n",
      "999\t\t1606\t\t14\t\t0.5\t\t0.1\t\t0.9\n",
      "1622\t\t1829\t\t16\t\t0.5\t\t0.1\t\t0.1\n",
      "1275\t\t1682\t\t16\t\t0.5\t\t0.1\t\t0.3\n",
      "1119\t\t1641\t\t16\t\t0.5\t\t0.1\t\t0.5\n",
      "1009\t\t1619\t\t16\t\t0.5\t\t0.1\t\t0.7\n",
      "923\t\t1611\t\t16\t\t0.5\t\t0.1\t\t0.9\n",
      "\n",
      " Best values:\n",
      "train-rmse\ttest-rmse \tmax_depth   \tcolsample_b \tlearning_ra \tsubsample   \n",
      "\n",
      "1093\t\t1600\t\t12\t\t0.5\t\t0.1\t\t0.9\n"
     ]
    }
   ],
   "source": [
    "gridXGB(paramlist={'max_depth':[10, 12, 14, 16],\n",
    "             'colsample_bytree': [0.5],\n",
    "             'learning_rate':[0.1],\n",
    "             'subsample':[0.1,0.3,0.5,0.7,0.9]}, verbosity=1)"
   ]
  },
  {
   "cell_type": "markdown",
   "id": "906746fd",
   "metadata": {},
   "source": [
    "#### Try log transform of mpg, mileage"
   ]
  },
  {
   "cell_type": "code",
   "execution_count": 88,
   "id": "1bdf821f",
   "metadata": {},
   "outputs": [],
   "source": [
    "X_train_log = X_train.copy()\n",
    "X_train_log['log_mpg'] = np.log(X_train['mpg'])\n",
    "X_train_log['log_mileage'] = np.log(X_train['mileage'])\n",
    "X_train_log.drop(['mpg', 'mileage'], axis=1, inplace=True)\n",
    "dmatrix = xgb.DMatrix(X_train_log, y_train)"
   ]
  },
  {
   "cell_type": "code",
   "execution_count": 89,
   "id": "0e553160",
   "metadata": {},
   "outputs": [
    {
     "name": "stdout",
     "output_type": "stream",
     "text": [
      "train-rmse\ttest-rmse \tmax_depth   \tcolsample_b \tlearning_ra \n",
      "\n",
      "2023\t\t2087\t\t4\t\t0.3\t\t0.1\n",
      "1684\t\t1848\t\t4\t\t0.3\t\t0.4\n",
      "1660\t\t1915\t\t4\t\t0.3\t\t0.7\n",
      "1906\t\t1991\t\t4\t\t0.5\t\t0.1\n",
      "1581\t\t1771\t\t4\t\t0.5\t\t0.4\n",
      "1507\t\t1813\t\t4\t\t0.5\t\t0.7\n",
      "1891\t\t2001\t\t4\t\t0.7\t\t0.1\n",
      "1544\t\t1756\t\t4\t\t0.7\t\t0.4\n",
      "1444\t\t1738\t\t4\t\t0.7\t\t0.7\n",
      "1488\t\t1760\t\t10\t\t0.3\t\t0.1\n",
      "1031\t\t1703\t\t10\t\t0.3\t\t0.4\n",
      "1015\t\t1952\t\t10\t\t0.3\t\t0.7\n",
      "1204\t\t1593\t\t10\t\t0.5\t\t0.1\n",
      "985\t\t1655\t\t10\t\t0.5\t\t0.4\n",
      "1130\t\t1886\t\t10\t\t0.5\t\t0.7\n",
      "1087\t\t1579\t\t10\t\t0.7\t\t0.1\n",
      "1044\t\t1664\t\t10\t\t0.7\t\t0.4\n",
      "1097\t\t1788\t\t10\t\t0.7\t\t0.7\n",
      "1285\t\t1751\t\t16\t\t0.3\t\t0.1\n",
      "779\t\t1793\t\t16\t\t0.3\t\t0.4\n",
      "591\t\t2079\t\t16\t\t0.3\t\t0.7\n",
      "929\t\t1583\t\t16\t\t0.5\t\t0.1\n",
      "681\t\t1718\t\t16\t\t0.5\t\t0.4\n",
      "631\t\t1976\t\t16\t\t0.5\t\t0.7\n",
      "734\t\t1591\t\t16\t\t0.7\t\t0.1\n",
      "684\t\t1693\t\t16\t\t0.7\t\t0.4\n",
      "868\t\t1862\t\t16\t\t0.7\t\t0.7\n",
      "\n",
      " Best values:\n",
      "train-rmse\ttest-rmse \tmax_depth   \tcolsample_b \tlearning_ra \n",
      "\n",
      "1087\t\t1579\t\t10\t\t0.7\t\t0.1\n"
     ]
    }
   ],
   "source": [
    "gridXGB(paramlist={'max_depth':[4, 10, 16],\n",
    "             'colsample_bytree': [0.3,0.5,0.7],\n",
    "             'learning_rate' : [0.1, 0.4,0.7]}, verbosity=1)"
   ]
  },
  {
   "cell_type": "code",
   "execution_count": 90,
   "id": "49c72e91",
   "metadata": {},
   "outputs": [
    {
     "name": "stdout",
     "output_type": "stream",
     "text": [
      "train-rmse\ttest-rmse \tmax_depth   \tcolsample_b \tlearning_ra \n",
      "\n",
      "1267\t\t1603\t\t8\t\t0.7\t\t0.1\n",
      "1130\t\t1588\t\t8\t\t0.7\t\t0.2\n",
      "1033\t\t1605\t\t8\t\t0.7\t\t0.3\n",
      "1248\t\t1618\t\t8\t\t0.8\t\t0.1\n",
      "1121\t\t1611\t\t8\t\t0.8\t\t0.2\n",
      "1013\t\t1637\t\t8\t\t0.8\t\t0.3\n",
      "1227\t\t1628\t\t8\t\t0.9\t\t0.1\n",
      "1111\t\t1610\t\t8\t\t0.9\t\t0.2\n",
      "1003\t\t1642\t\t8\t\t0.9\t\t0.3\n",
      "1087\t\t1579\t\t10\t\t0.7\t\t0.1\n",
      "944\t\t1594\t\t10\t\t0.7\t\t0.2\n",
      "977\t\t1617\t\t10\t\t0.7\t\t0.3\n",
      "1062\t\t1595\t\t10\t\t0.8\t\t0.1\n",
      "1008\t\t1622\t\t10\t\t0.8\t\t0.2\n",
      "1011\t\t1638\t\t10\t\t0.8\t\t0.3\n",
      "1025\t\t1601\t\t10\t\t0.9\t\t0.1\n",
      "991\t\t1602\t\t10\t\t0.9\t\t0.2\n",
      "987\t\t1628\t\t10\t\t0.9\t\t0.3\n",
      "949\t\t1573\t\t12\t\t0.7\t\t0.1\n",
      "860\t\t1588\t\t12\t\t0.7\t\t0.2\n",
      "895\t\t1617\t\t12\t\t0.7\t\t0.3\n",
      "909\t\t1601\t\t12\t\t0.8\t\t0.1\n",
      "832\t\t1621\t\t12\t\t0.8\t\t0.2\n",
      "832\t\t1650\t\t12\t\t0.8\t\t0.3\n",
      "858\t\t1610\t\t12\t\t0.9\t\t0.1\n",
      "819\t\t1614\t\t12\t\t0.9\t\t0.2\n",
      "914\t\t1649\t\t12\t\t0.9\t\t0.3\n",
      "\n",
      " Best values:\n",
      "train-rmse\ttest-rmse \tmax_depth   \tcolsample_b \tlearning_ra \n",
      "\n",
      "949\t\t1573\t\t12\t\t0.7\t\t0.1\n"
     ]
    }
   ],
   "source": [
    "gridXGB(paramlist={'max_depth':[8, 10, 12],\n",
    "             'colsample_bytree': [0.7,0.8,0.9],\n",
    "             'learning_rate' : [0.1, 0.2,0.3]}, verbosity=1)"
   ]
  },
  {
   "cell_type": "code",
   "execution_count": 91,
   "id": "2e1d164b",
   "metadata": {},
   "outputs": [
    {
     "name": "stdout",
     "output_type": "stream",
     "text": [
      "train-rmse\ttest-rmse \tmax_depth   \tcolsample_b \tlearning_ra \tsubsample   \n",
      "\n",
      "1467\t\t1698\t\t10\t\t0.6\t\t0.1\t\t0.2\n",
      "1315\t\t1635\t\t10\t\t0.6\t\t0.1\t\t0.4\n",
      "1230\t\t1613\t\t10\t\t0.6\t\t0.1\t\t0.6\n",
      "1164\t\t1605\t\t10\t\t0.6\t\t0.1\t\t0.8\n",
      "1137\t\t1588\t\t10\t\t0.6\t\t0.1\t\t1.0\n",
      "1445\t\t1686\t\t10\t\t0.7\t\t0.1\t\t0.2\n",
      "1288\t\t1624\t\t10\t\t0.7\t\t0.1\t\t0.4\n",
      "1193\t\t1593\t\t10\t\t0.7\t\t0.1\t\t0.6\n",
      "1130\t\t1583\t\t10\t\t0.7\t\t0.1\t\t0.8\n",
      "1087\t\t1579\t\t10\t\t0.7\t\t0.1\t\t1.0\n",
      "1429\t\t1687\t\t10\t\t0.8\t\t0.1\t\t0.2\n",
      "1265\t\t1629\t\t10\t\t0.8\t\t0.1\t\t0.4\n",
      "1163\t\t1607\t\t10\t\t0.8\t\t0.1\t\t0.6\n",
      "1089\t\t1576\t\t10\t\t0.8\t\t0.1\t\t0.8\n",
      "1062\t\t1595\t\t10\t\t0.8\t\t0.1\t\t1.0\n",
      "1407\t\t1676\t\t12\t\t0.6\t\t0.1\t\t0.2\n",
      "1226\t\t1625\t\t12\t\t0.6\t\t0.1\t\t0.4\n",
      "1116\t\t1603\t\t12\t\t0.6\t\t0.1\t\t0.6\n",
      "1040\t\t1600\t\t12\t\t0.6\t\t0.1\t\t0.8\n",
      "1003\t\t1571\t\t12\t\t0.6\t\t0.1\t\t1.0\n",
      "1380\t\t1675\t\t12\t\t0.7\t\t0.1\t\t0.2\n",
      "1191\t\t1612\t\t12\t\t0.7\t\t0.1\t\t0.4\n",
      "1070\t\t1585\t\t12\t\t0.7\t\t0.1\t\t0.6\n",
      "987\t\t1571\t\t12\t\t0.7\t\t0.1\t\t0.8\n",
      "949\t\t1573\t\t12\t\t0.7\t\t0.1\t\t1.0\n",
      "1377\t\t1678\t\t12\t\t0.8\t\t0.1\t\t0.2\n",
      "1166\t\t1620\t\t12\t\t0.8\t\t0.1\t\t0.4\n",
      "1040\t\t1593\t\t12\t\t0.8\t\t0.1\t\t0.6\n",
      "944\t\t1580\t\t12\t\t0.8\t\t0.1\t\t0.8\n",
      "909\t\t1601\t\t12\t\t0.8\t\t0.1\t\t1.0\n",
      "1369\t\t1670\t\t14\t\t0.6\t\t0.1\t\t0.2\n",
      "1164\t\t1625\t\t14\t\t0.6\t\t0.1\t\t0.4\n",
      "1031\t\t1606\t\t14\t\t0.6\t\t0.1\t\t0.6\n",
      "937\t\t1597\t\t14\t\t0.6\t\t0.1\t\t0.8\n",
      "887\t\t1578\t\t14\t\t0.6\t\t0.1\t\t1.0\n",
      "1338\t\t1657\t\t14\t\t0.7\t\t0.1\t\t0.2\n",
      "1113\t\t1607\t\t14\t\t0.7\t\t0.1\t\t0.4\n",
      "979\t\t1586\t\t14\t\t0.7\t\t0.1\t\t0.6\n",
      "879\t\t1579\t\t14\t\t0.7\t\t0.1\t\t0.8\n",
      "825\t\t1581\t\t14\t\t0.7\t\t0.1\t\t1.0\n",
      "1332\t\t1665\t\t14\t\t0.8\t\t0.1\t\t0.2\n",
      "1089\t\t1620\t\t14\t\t0.8\t\t0.1\t\t0.4\n",
      "932\t\t1598\t\t14\t\t0.8\t\t0.1\t\t0.6\n",
      "826\t\t1583\t\t14\t\t0.8\t\t0.1\t\t0.8\n",
      "776\t\t1610\t\t14\t\t0.8\t\t0.1\t\t1.0\n",
      "\n",
      " Best values:\n",
      "train-rmse\ttest-rmse \tmax_depth   \tcolsample_b \tlearning_ra \tsubsample   \n",
      "\n",
      "1003\t\t1571\t\t12\t\t0.6\t\t0.1\t\t1.0\n"
     ]
    }
   ],
   "source": [
    "gridXGB(paramlist={'max_depth':[10, 12, 14],\n",
    "             'colsample_bytree': [0.6,0.7,0.8],\n",
    "             'learning_rate' : [0.1],\n",
    "            'subsample' : [0.2,0.4,0.6,0.8,1.0]}, verbosity=1)"
   ]
  },
  {
   "cell_type": "code",
   "execution_count": 92,
   "id": "bbeed54a",
   "metadata": {},
   "outputs": [
    {
     "name": "stdout",
     "output_type": "stream",
     "text": [
      "train-rmse\ttest-rmse \tmax_depth   \tcolsample_b \tlearning_ra \tgamma       \tlambda      \talpha       \n",
      "\n",
      "1003\t\t1571\t\t12\t\t0.6\t\t0.1\t\t0\t\t1\t\t0\n",
      "996\t\t1571\t\t12\t\t0.6\t\t0.1\t\t0\t\t1\t\t1\n",
      "1001\t\t1574\t\t12\t\t0.6\t\t0.1\t\t0\t\t1\t\t10\n",
      "1109\t\t1588\t\t12\t\t0.6\t\t0.1\t\t0\t\t2\t\t0\n",
      "1111\t\t1586\t\t12\t\t0.6\t\t0.1\t\t0\t\t2\t\t1\n",
      "1109\t\t1589\t\t12\t\t0.6\t\t0.1\t\t0\t\t2\t\t10\n",
      "1420\t\t1676\t\t12\t\t0.6\t\t0.1\t\t0\t\t10\t\t0\n",
      "1420\t\t1676\t\t12\t\t0.6\t\t0.1\t\t0\t\t10\t\t1\n",
      "1421\t\t1674\t\t12\t\t0.6\t\t0.1\t\t0\t\t10\t\t10\n",
      "1003\t\t1571\t\t12\t\t0.6\t\t0.1\t\t1\t\t1\t\t0\n",
      "996\t\t1571\t\t12\t\t0.6\t\t0.1\t\t1\t\t1\t\t1\n",
      "1001\t\t1574\t\t12\t\t0.6\t\t0.1\t\t1\t\t1\t\t10\n",
      "1109\t\t1588\t\t12\t\t0.6\t\t0.1\t\t1\t\t2\t\t0\n",
      "1111\t\t1586\t\t12\t\t0.6\t\t0.1\t\t1\t\t2\t\t1\n",
      "1109\t\t1589\t\t12\t\t0.6\t\t0.1\t\t1\t\t2\t\t10\n",
      "1420\t\t1676\t\t12\t\t0.6\t\t0.1\t\t1\t\t10\t\t0\n",
      "1420\t\t1676\t\t12\t\t0.6\t\t0.1\t\t1\t\t10\t\t1\n",
      "1421\t\t1674\t\t12\t\t0.6\t\t0.1\t\t1\t\t10\t\t10\n",
      "1003\t\t1571\t\t12\t\t0.6\t\t0.1\t\t10\t\t1\t\t0\n",
      "997\t\t1571\t\t12\t\t0.6\t\t0.1\t\t10\t\t1\t\t1\n",
      "1001\t\t1574\t\t12\t\t0.6\t\t0.1\t\t10\t\t1\t\t10\n",
      "1109\t\t1588\t\t12\t\t0.6\t\t0.1\t\t10\t\t2\t\t0\n",
      "1111\t\t1586\t\t12\t\t0.6\t\t0.1\t\t10\t\t2\t\t1\n",
      "1108\t\t1589\t\t12\t\t0.6\t\t0.1\t\t10\t\t2\t\t10\n",
      "1420\t\t1676\t\t12\t\t0.6\t\t0.1\t\t10\t\t10\t\t0\n",
      "1420\t\t1676\t\t12\t\t0.6\t\t0.1\t\t10\t\t10\t\t1\n",
      "1421\t\t1674\t\t12\t\t0.6\t\t0.1\t\t10\t\t10\t\t10\n",
      "\n",
      " Best values:\n",
      "train-rmse\ttest-rmse \tmax_depth   \tcolsample_b \tlearning_ra \tgamma       \tlambda      \talpha       \n",
      "\n",
      "996\t\t1571\t\t12\t\t0.6\t\t0.1\t\t0\t\t1\t\t1\n"
     ]
    }
   ],
   "source": [
    "gridXGB(paramlist={'max_depth':[12],\n",
    "             'colsample_bytree': [0.6],\n",
    "             'learning_rate' : [0.1],\n",
    "              'gamma' : [0, 1, 10],\n",
    "              'lambda' : [1, 2, 10],\n",
    "               'alpha' : [0, 1, 10]}, verbosity=1)"
   ]
  },
  {
   "cell_type": "code",
   "execution_count": 104,
   "id": "25275595",
   "metadata": {},
   "outputs": [],
   "source": [
    "# See where the propblem lies\n",
    "dmatrix = xgb.DMatrix(X_train, y_train)\n",
    "params = {'max_depth':16, 'colsample_bytree': 0.5,'learning_rate' : 0.1}\n",
    "xgbmodel = xgb.train(params, dmatrix, num_boost_round=50)\n",
    "preds = xgbmodel.predict(dmatrix)\n",
    "ses = [(a-p)**2 for a,p in zip(y_train,preds)]"
   ]
  },
  {
   "cell_type": "code",
   "execution_count": 107,
   "id": "9858b843",
   "metadata": {},
   "outputs": [
    {
     "data": {
      "text/plain": [
       "900.3413886623032"
      ]
     },
     "execution_count": 107,
     "metadata": {},
     "output_type": "execute_result"
    }
   ],
   "source": [
    "np.sqrt(np.mean(ses))"
   ]
  },
  {
   "cell_type": "code",
   "execution_count": 110,
   "id": "50ab4ac7",
   "metadata": {},
   "outputs": [
    {
     "data": {
      "text/plain": [
       "'tiguan'"
      ]
     },
     "execution_count": 110,
     "metadata": {},
     "output_type": "execute_result"
    }
   ],
   "source": [
    "from itertools import compress\n",
    "modes = [\"fords\", \"tiguan\", \"cressida\"]\n",
    "filt = [0,1,0]\n",
    "list(compress(modes,filt))[0]"
   ]
  },
  {
   "cell_type": "code",
   "execution_count": 111,
   "id": "34b53c49",
   "metadata": {},
   "outputs": [],
   "source": [
    "models = df.columns[6:33]\n",
    "gearbox = df.columns[33:36]\n",
    "fuel = df.columns[36:40]"
   ]
  },
  {
   "cell_type": "code",
   "execution_count": 114,
   "id": "48e44d56",
   "metadata": {},
   "outputs": [],
   "source": [
    "X_models = X_train[models].values.tolist()\n",
    "X_gearbox = X_train[gearbox].values.tolist()\n",
    "X_fuel = X_train[fuel].values.tolist()\n",
    "model_col = [list(compress(models,row))[0] for row in X_models]\n",
    "gearbox_col = [list(compress(gearbox,row))[0] for row in X_gearbox]\n",
    "fuel_col = [list(compress(fuel,row))[0] for row in X_fuel]"
   ]
  },
  {
   "cell_type": "code",
   "execution_count": 118,
   "id": "0c16193e",
   "metadata": {},
   "outputs": [],
   "source": [
    "view = X_train[X_train.columns[0:5]].copy()\n",
    "view['model'] = model_col\n",
    "view['gearbox'] = gearbox_col\n",
    "view['fuel'] = fuel_col\n",
    "view['ses'] = ses\n",
    "view['price'] = y_train\n",
    "view['pred'] = preds"
   ]
  },
  {
   "cell_type": "code",
   "execution_count": 138,
   "id": "6fa070c1",
   "metadata": {},
   "outputs": [],
   "source": [
    "view['error'] = view.apply(lambda x: np.abs(x['price'] - x['pred'])/x['price'], axis=1)"
   ]
  },
  {
   "cell_type": "code",
   "execution_count": 139,
   "id": "fc3d8ed0",
   "metadata": {},
   "outputs": [
    {
     "data": {
      "text/html": [
       "<div>\n",
       "<style scoped>\n",
       "    .dataframe tbody tr th:only-of-type {\n",
       "        vertical-align: middle;\n",
       "    }\n",
       "\n",
       "    .dataframe tbody tr th {\n",
       "        vertical-align: top;\n",
       "    }\n",
       "\n",
       "    .dataframe thead th {\n",
       "        text-align: right;\n",
       "    }\n",
       "</style>\n",
       "<table border=\"1\" class=\"dataframe\">\n",
       "  <thead>\n",
       "    <tr style=\"text-align: right;\">\n",
       "      <th></th>\n",
       "      <th>year</th>\n",
       "      <th>mileage</th>\n",
       "      <th>tax</th>\n",
       "      <th>mpg</th>\n",
       "      <th>engineSize</th>\n",
       "      <th>model</th>\n",
       "      <th>gearbox</th>\n",
       "      <th>fuel</th>\n",
       "      <th>ses</th>\n",
       "      <th>price</th>\n",
       "      <th>pred</th>\n",
       "      <th>error</th>\n",
       "    </tr>\n",
       "  </thead>\n",
       "  <tbody>\n",
       "    <tr>\n",
       "      <th>5246</th>\n",
       "      <td>2008</td>\n",
       "      <td>1</td>\n",
       "      <td>145</td>\n",
       "      <td>53.3</td>\n",
       "      <td>1.9</td>\n",
       "      <td>Golf</td>\n",
       "      <td>Manual</td>\n",
       "      <td>Diesel</td>\n",
       "      <td>7.194597e+05</td>\n",
       "      <td>1299</td>\n",
       "      <td>2147.209717</td>\n",
       "      <td>0.652971</td>\n",
       "    </tr>\n",
       "    <tr>\n",
       "      <th>9996</th>\n",
       "      <td>2009</td>\n",
       "      <td>41637</td>\n",
       "      <td>145</td>\n",
       "      <td>48.7</td>\n",
       "      <td>1.2</td>\n",
       "      <td>Polo</td>\n",
       "      <td>Manual</td>\n",
       "      <td>Petrol</td>\n",
       "      <td>6.466602e+05</td>\n",
       "      <td>2495</td>\n",
       "      <td>3299.151855</td>\n",
       "      <td>0.322305</td>\n",
       "    </tr>\n",
       "    <tr>\n",
       "      <th>4440</th>\n",
       "      <td>2016</td>\n",
       "      <td>27000</td>\n",
       "      <td>145</td>\n",
       "      <td>74.3</td>\n",
       "      <td>1.6</td>\n",
       "      <td>Golf</td>\n",
       "      <td>Manual</td>\n",
       "      <td>Diesel</td>\n",
       "      <td>7.479338e+06</td>\n",
       "      <td>8490</td>\n",
       "      <td>11224.837891</td>\n",
       "      <td>0.322125</td>\n",
       "    </tr>\n",
       "    <tr>\n",
       "      <th>13323</th>\n",
       "      <td>2001</td>\n",
       "      <td>1</td>\n",
       "      <td>325</td>\n",
       "      <td>29.7</td>\n",
       "      <td>2.0</td>\n",
       "      <td>Beetle</td>\n",
       "      <td>Automatic</td>\n",
       "      <td>Petrol</td>\n",
       "      <td>7.175924e+04</td>\n",
       "      <td>899</td>\n",
       "      <td>1166.879150</td>\n",
       "      <td>0.297975</td>\n",
       "    </tr>\n",
       "    <tr>\n",
       "      <th>5494</th>\n",
       "      <td>2010</td>\n",
       "      <td>122437</td>\n",
       "      <td>125</td>\n",
       "      <td>57.6</td>\n",
       "      <td>2.0</td>\n",
       "      <td>Golf</td>\n",
       "      <td>Manual</td>\n",
       "      <td>Diesel</td>\n",
       "      <td>6.061143e+05</td>\n",
       "      <td>2750</td>\n",
       "      <td>3528.533447</td>\n",
       "      <td>0.283103</td>\n",
       "    </tr>\n",
       "    <tr>\n",
       "      <th>4742</th>\n",
       "      <td>2016</td>\n",
       "      <td>18673</td>\n",
       "      <td>30</td>\n",
       "      <td>62.8</td>\n",
       "      <td>2.0</td>\n",
       "      <td>Golf</td>\n",
       "      <td>Automatic</td>\n",
       "      <td>Diesel</td>\n",
       "      <td>9.805821e+06</td>\n",
       "      <td>11600</td>\n",
       "      <td>14731.424805</td>\n",
       "      <td>0.269950</td>\n",
       "    </tr>\n",
       "    <tr>\n",
       "      <th>11115</th>\n",
       "      <td>2017</td>\n",
       "      <td>19039</td>\n",
       "      <td>145</td>\n",
       "      <td>49.6</td>\n",
       "      <td>2.0</td>\n",
       "      <td>Tiguan</td>\n",
       "      <td>Semi-Auto</td>\n",
       "      <td>Diesel</td>\n",
       "      <td>1.938562e+07</td>\n",
       "      <td>17950</td>\n",
       "      <td>22352.910156</td>\n",
       "      <td>0.245287</td>\n",
       "    </tr>\n",
       "    <tr>\n",
       "      <th>9454</th>\n",
       "      <td>2016</td>\n",
       "      <td>31000</td>\n",
       "      <td>20</td>\n",
       "      <td>60.1</td>\n",
       "      <td>1.0</td>\n",
       "      <td>Polo</td>\n",
       "      <td>Manual</td>\n",
       "      <td>Petrol</td>\n",
       "      <td>2.489192e+06</td>\n",
       "      <td>6490</td>\n",
       "      <td>8067.717285</td>\n",
       "      <td>0.243100</td>\n",
       "    </tr>\n",
       "    <tr>\n",
       "      <th>6023</th>\n",
       "      <td>2019</td>\n",
       "      <td>12005</td>\n",
       "      <td>145</td>\n",
       "      <td>40.4</td>\n",
       "      <td>2.0</td>\n",
       "      <td>Passat</td>\n",
       "      <td>Semi-Auto</td>\n",
       "      <td>Petrol</td>\n",
       "      <td>1.496538e+07</td>\n",
       "      <td>15990</td>\n",
       "      <td>19858.511719</td>\n",
       "      <td>0.241933</td>\n",
       "    </tr>\n",
       "    <tr>\n",
       "      <th>4496</th>\n",
       "      <td>2017</td>\n",
       "      <td>46000</td>\n",
       "      <td>145</td>\n",
       "      <td>74.3</td>\n",
       "      <td>1.6</td>\n",
       "      <td>Golf</td>\n",
       "      <td>Manual</td>\n",
       "      <td>Diesel</td>\n",
       "      <td>3.548985e+06</td>\n",
       "      <td>7990</td>\n",
       "      <td>9873.875000</td>\n",
       "      <td>0.235779</td>\n",
       "    </tr>\n",
       "    <tr>\n",
       "      <th>9390</th>\n",
       "      <td>2007</td>\n",
       "      <td>107000</td>\n",
       "      <td>145</td>\n",
       "      <td>47.1</td>\n",
       "      <td>1.2</td>\n",
       "      <td>Polo</td>\n",
       "      <td>Manual</td>\n",
       "      <td>Petrol</td>\n",
       "      <td>1.157305e+05</td>\n",
       "      <td>1450</td>\n",
       "      <td>1790.191895</td>\n",
       "      <td>0.234615</td>\n",
       "    </tr>\n",
       "    <tr>\n",
       "      <th>5558</th>\n",
       "      <td>2015</td>\n",
       "      <td>22708</td>\n",
       "      <td>30</td>\n",
       "      <td>62.8</td>\n",
       "      <td>2.0</td>\n",
       "      <td>Golf</td>\n",
       "      <td>Manual</td>\n",
       "      <td>Diesel</td>\n",
       "      <td>4.747394e+06</td>\n",
       "      <td>9500</td>\n",
       "      <td>11678.851562</td>\n",
       "      <td>0.229353</td>\n",
       "    </tr>\n",
       "    <tr>\n",
       "      <th>5083</th>\n",
       "      <td>2002</td>\n",
       "      <td>117000</td>\n",
       "      <td>280</td>\n",
       "      <td>35.8</td>\n",
       "      <td>2.0</td>\n",
       "      <td>Golf</td>\n",
       "      <td>Manual</td>\n",
       "      <td>Petrol</td>\n",
       "      <td>8.323901e+04</td>\n",
       "      <td>1275</td>\n",
       "      <td>1563.511719</td>\n",
       "      <td>0.226284</td>\n",
       "    </tr>\n",
       "    <tr>\n",
       "      <th>5538</th>\n",
       "      <td>2010</td>\n",
       "      <td>164000</td>\n",
       "      <td>145</td>\n",
       "      <td>58.9</td>\n",
       "      <td>2.0</td>\n",
       "      <td>Golf</td>\n",
       "      <td>Manual</td>\n",
       "      <td>Diesel</td>\n",
       "      <td>5.406866e+05</td>\n",
       "      <td>3295</td>\n",
       "      <td>4030.313965</td>\n",
       "      <td>0.223161</td>\n",
       "    </tr>\n",
       "    <tr>\n",
       "      <th>10433</th>\n",
       "      <td>2019</td>\n",
       "      <td>13000</td>\n",
       "      <td>145</td>\n",
       "      <td>47.9</td>\n",
       "      <td>2.0</td>\n",
       "      <td>Tiguan</td>\n",
       "      <td>Manual</td>\n",
       "      <td>Diesel</td>\n",
       "      <td>4.955761e+07</td>\n",
       "      <td>32500</td>\n",
       "      <td>25460.283203</td>\n",
       "      <td>0.216607</td>\n",
       "    </tr>\n",
       "    <tr>\n",
       "      <th>3867</th>\n",
       "      <td>2016</td>\n",
       "      <td>38254</td>\n",
       "      <td>30</td>\n",
       "      <td>62.8</td>\n",
       "      <td>2.0</td>\n",
       "      <td>Golf</td>\n",
       "      <td>Semi-Auto</td>\n",
       "      <td>Diesel</td>\n",
       "      <td>7.287843e+06</td>\n",
       "      <td>12490</td>\n",
       "      <td>15189.600586</td>\n",
       "      <td>0.216141</td>\n",
       "    </tr>\n",
       "    <tr>\n",
       "      <th>3412</th>\n",
       "      <td>2017</td>\n",
       "      <td>24290</td>\n",
       "      <td>145</td>\n",
       "      <td>67.3</td>\n",
       "      <td>2.0</td>\n",
       "      <td>Golf</td>\n",
       "      <td>Manual</td>\n",
       "      <td>Diesel</td>\n",
       "      <td>7.224961e+06</td>\n",
       "      <td>12450</td>\n",
       "      <td>15137.928711</td>\n",
       "      <td>0.215898</td>\n",
       "    </tr>\n",
       "    <tr>\n",
       "      <th>11306</th>\n",
       "      <td>2017</td>\n",
       "      <td>23319</td>\n",
       "      <td>165</td>\n",
       "      <td>49.6</td>\n",
       "      <td>2.0</td>\n",
       "      <td>Tiguan</td>\n",
       "      <td>Semi-Auto</td>\n",
       "      <td>Diesel</td>\n",
       "      <td>1.042831e+07</td>\n",
       "      <td>14990</td>\n",
       "      <td>18219.289062</td>\n",
       "      <td>0.215430</td>\n",
       "    </tr>\n",
       "    <tr>\n",
       "      <th>4750</th>\n",
       "      <td>2016</td>\n",
       "      <td>36456</td>\n",
       "      <td>30</td>\n",
       "      <td>62.8</td>\n",
       "      <td>2.0</td>\n",
       "      <td>Golf</td>\n",
       "      <td>Automatic</td>\n",
       "      <td>Diesel</td>\n",
       "      <td>6.279204e+06</td>\n",
       "      <td>11699</td>\n",
       "      <td>14204.833984</td>\n",
       "      <td>0.214192</td>\n",
       "    </tr>\n",
       "    <tr>\n",
       "      <th>10357</th>\n",
       "      <td>2016</td>\n",
       "      <td>37665</td>\n",
       "      <td>160</td>\n",
       "      <td>49.6</td>\n",
       "      <td>2.0</td>\n",
       "      <td>Tiguan</td>\n",
       "      <td>Semi-Auto</td>\n",
       "      <td>Diesel</td>\n",
       "      <td>8.211773e+06</td>\n",
       "      <td>13498</td>\n",
       "      <td>16363.619141</td>\n",
       "      <td>0.212300</td>\n",
       "    </tr>\n",
       "  </tbody>\n",
       "</table>\n",
       "</div>"
      ],
      "text/plain": [
       "       year  mileage  tax   mpg  engineSize   model    gearbox    fuel  \\\n",
       "5246   2008        1  145  53.3         1.9    Golf     Manual  Diesel   \n",
       "9996   2009    41637  145  48.7         1.2    Polo     Manual  Petrol   \n",
       "4440   2016    27000  145  74.3         1.6    Golf     Manual  Diesel   \n",
       "13323  2001        1  325  29.7         2.0  Beetle  Automatic  Petrol   \n",
       "5494   2010   122437  125  57.6         2.0    Golf     Manual  Diesel   \n",
       "4742   2016    18673   30  62.8         2.0    Golf  Automatic  Diesel   \n",
       "11115  2017    19039  145  49.6         2.0  Tiguan  Semi-Auto  Diesel   \n",
       "9454   2016    31000   20  60.1         1.0    Polo     Manual  Petrol   \n",
       "6023   2019    12005  145  40.4         2.0  Passat  Semi-Auto  Petrol   \n",
       "4496   2017    46000  145  74.3         1.6    Golf     Manual  Diesel   \n",
       "9390   2007   107000  145  47.1         1.2    Polo     Manual  Petrol   \n",
       "5558   2015    22708   30  62.8         2.0    Golf     Manual  Diesel   \n",
       "5083   2002   117000  280  35.8         2.0    Golf     Manual  Petrol   \n",
       "5538   2010   164000  145  58.9         2.0    Golf     Manual  Diesel   \n",
       "10433  2019    13000  145  47.9         2.0  Tiguan     Manual  Diesel   \n",
       "3867   2016    38254   30  62.8         2.0    Golf  Semi-Auto  Diesel   \n",
       "3412   2017    24290  145  67.3         2.0    Golf     Manual  Diesel   \n",
       "11306  2017    23319  165  49.6         2.0  Tiguan  Semi-Auto  Diesel   \n",
       "4750   2016    36456   30  62.8         2.0    Golf  Automatic  Diesel   \n",
       "10357  2016    37665  160  49.6         2.0  Tiguan  Semi-Auto  Diesel   \n",
       "\n",
       "                ses  price          pred     error  \n",
       "5246   7.194597e+05   1299   2147.209717  0.652971  \n",
       "9996   6.466602e+05   2495   3299.151855  0.322305  \n",
       "4440   7.479338e+06   8490  11224.837891  0.322125  \n",
       "13323  7.175924e+04    899   1166.879150  0.297975  \n",
       "5494   6.061143e+05   2750   3528.533447  0.283103  \n",
       "4742   9.805821e+06  11600  14731.424805  0.269950  \n",
       "11115  1.938562e+07  17950  22352.910156  0.245287  \n",
       "9454   2.489192e+06   6490   8067.717285  0.243100  \n",
       "6023   1.496538e+07  15990  19858.511719  0.241933  \n",
       "4496   3.548985e+06   7990   9873.875000  0.235779  \n",
       "9390   1.157305e+05   1450   1790.191895  0.234615  \n",
       "5558   4.747394e+06   9500  11678.851562  0.229353  \n",
       "5083   8.323901e+04   1275   1563.511719  0.226284  \n",
       "5538   5.406866e+05   3295   4030.313965  0.223161  \n",
       "10433  4.955761e+07  32500  25460.283203  0.216607  \n",
       "3867   7.287843e+06  12490  15189.600586  0.216141  \n",
       "3412   7.224961e+06  12450  15137.928711  0.215898  \n",
       "11306  1.042831e+07  14990  18219.289062  0.215430  \n",
       "4750   6.279204e+06  11699  14204.833984  0.214192  \n",
       "10357  8.211773e+06  13498  16363.619141  0.212300  "
      ]
     },
     "execution_count": 139,
     "metadata": {},
     "output_type": "execute_result"
    }
   ],
   "source": [
    "view.sort_values('error', ascending = False).head(20)"
   ]
  },
  {
   "cell_type": "code",
   "execution_count": 142,
   "id": "e5e6b599",
   "metadata": {},
   "outputs": [
    {
     "data": {
      "text/plain": [
       "<AxesSubplot:xlabel='price', ylabel='error'>"
      ]
     },
     "execution_count": 142,
     "metadata": {},
     "output_type": "execute_result"
    },
    {
     "data": {
      "image/png": "[encoded data removed]",
      "text/plain": [
       "<Figure size 432x288 with 1 Axes>"
      ]
     },
     "metadata": {
      "needs_background": "light"
     },
     "output_type": "display_data"
    }
   ],
   "source": [
    "sns.scatterplot(x=view['price'],y=view['error'], hue=view['model'])"
   ]
  },
  {
   "cell_type": "code",
   "execution_count": null,
   "id": "08673e10",
   "metadata": {},
   "outputs": [],
   "source": [
    "# Try single model\n"
   ]
  }
 ],
 "metadata": {
  "kernelspec": {
   "display_name": "Python 3 (ipykernel)",
   "language": "python",
   "name": "python3"
  },
  "language_info": {
   "codemirror_mode": {
    "name": "ipython",
    "version": 3
   },
   "file_extension": ".py",
   "mimetype": "text/x-python",
   "name": "python",
   "nbconvert_exporter": "python",
   "pygments_lexer": "ipython3",
   "version": "3.9.7"
  }
 },
 "nbformat": 4,
 "nbformat_minor": 5
}
